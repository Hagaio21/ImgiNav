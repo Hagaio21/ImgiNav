{
 "cells": [
  {
   "cell_type": "code",
   "execution_count": 1,
   "id": "8369bea1",
   "metadata": {},
   "outputs": [],
   "source": [
    "# ============================================================\n",
    "# 1. Setup (run once)\n",
    "# ============================================================\n",
    "import torch\n",
    "from torch.utils.data import Dataset, DataLoader\n",
    "import sys, os\n",
    "sys.path.append(r\"C:\\Users\\Hagai.LAPTOP-QAG9263N\\Desktop\\Thesis\\repositories\\ImagiNav\")\n",
    "from modules.autoencoder import AutoEncoder\n",
    "from modules.unet import UNet\n",
    "from modules.diffusion import LatentDiffusion\n",
    "from modules.scheduler import CosineScheduler\n",
    "from training.diffusion_trainer import DiffusionTrainer\n",
    "\n"
   ]
  },
  {
   "cell_type": "code",
   "execution_count": 2,
   "id": "a4cdfff8",
   "metadata": {},
   "outputs": [],
   "source": [
    "\n",
    "# ============================================================\n",
    "# 2. Dummy dataset\n",
    "# ============================================================\n",
    "class DummyDataset(Dataset):\n",
    "    def __init__(self, length=32, shape=(3, 64, 64)):\n",
    "        self.length = length\n",
    "        self.shape = shape\n",
    "\n",
    "    def __len__(self):\n",
    "        return self.length\n",
    "\n",
    "    def __getitem__(self, idx):\n",
    "        # return tuple to preserve batch dimension\n",
    "        return (torch.zeros(self.shape),)\n",
    "\n",
    "\n",
    "\n",
    "train_loader = DataLoader(DummyDataset(length=16), batch_size=4)\n",
    "val_loader = DataLoader(DummyDataset(length=8), batch_size=4)\n",
    "\n",
    "\n"
   ]
  },
  {
   "cell_type": "code",
   "execution_count": 3,
   "id": "e7501ad5",
   "metadata": {},
   "outputs": [],
   "source": [
    "# ============================================================\n",
    "# 3. Instantiate components (aligned latent AE + UNet)\n",
    "# ============================================================\n",
    "device = \"cuda\" if torch.cuda.is_available() else \"cpu\"\n",
    "\n",
    "# Define shared latent geometry for AE and UNet\n",
    "latent_channels = 3\n",
    "latent_base = 16\n",
    "image_size = 64\n",
    "\n",
    "# Autoencoder built via new from_shape API\n",
    "autoencoder = AutoEncoder.from_shape(\n",
    "    in_channels=3,\n",
    "    out_channels=3,\n",
    "    base_channels=16,\n",
    "    latent_channels=latent_channels,\n",
    "    image_size=image_size,\n",
    "    latent_base=latent_base,\n",
    "    norm=\"batch\",\n",
    "    act=\"relu\"\n",
    ").to(device)\n",
    "\n",
    "# UNet configured to operate on the same latent space\n",
    "unet = UNet(\n",
    "    in_channels=latent_channels,\n",
    "    out_channels=latent_channels,\n",
    "    base_channels=16,\n",
    "    depth=3\n",
    ").to(device)\n",
    "\n",
    "scheduler = CosineScheduler(num_steps=10)\n",
    "latent_diffusion = LatentDiffusion(unet, scheduler, autoencoder)\n"
   ]
  },
  {
   "cell_type": "code",
   "execution_count": 4,
   "id": "585d0bb4",
   "metadata": {},
   "outputs": [
    {
     "name": "stdout",
     "output_type": "stream",
     "text": [
      "Dataset diversity baseline: 0.0000\n"
     ]
    },
    {
     "name": "stderr",
     "output_type": "stream",
     "text": [
      "Epoch 1/10:   0%|          | 0/4 [00:00<?, ?it/s, loss=1.0782]"
     ]
    },
    {
     "name": "stdout",
     "output_type": "stream",
     "text": [
      "Generating...\n"
     ]
    },
    {
     "name": "stderr",
     "output_type": "stream",
     "text": [
      "Diffusion sampling: 100%|██████████| 10/10 [00:00<00:00, 145.72it/s]\n",
      "Epoch 1/10:  25%|██▌       | 1/4 [00:00<00:00,  7.41it/s, loss=1.0776]"
     ]
    },
    {
     "name": "stdout",
     "output_type": "stream",
     "text": [
      "Decoding...\n",
      "[1] loss=1.0782, snr=0.781, cos=-0.035, div=0.002\n",
      "Generating...\n"
     ]
    },
    {
     "name": "stderr",
     "output_type": "stream",
     "text": [
      "Diffusion sampling: 100%|██████████| 10/10 [00:00<00:00, 150.05it/s]\n"
     ]
    },
    {
     "name": "stdout",
     "output_type": "stream",
     "text": [
      "Decoding...\n",
      "[2] loss=1.0776, snr=0.551, cos=-0.070, div=0.003\n",
      "Generating...\n"
     ]
    },
    {
     "name": "stderr",
     "output_type": "stream",
     "text": [
      "Diffusion sampling: 100%|██████████| 10/10 [00:00<00:00, 94.59it/s]\n"
     ]
    },
    {
     "name": "stdout",
     "output_type": "stream",
     "text": [
      "Decoding...\n"
     ]
    },
    {
     "name": "stderr",
     "output_type": "stream",
     "text": [
      "Epoch 1/10:  50%|█████     | 2/4 [00:00<00:01,  1.93it/s, loss=1.0689]"
     ]
    },
    {
     "name": "stdout",
     "output_type": "stream",
     "text": [
      "Generating...\n"
     ]
    },
    {
     "name": "stderr",
     "output_type": "stream",
     "text": [
      "Diffusion sampling: 100%|██████████| 10/10 [00:00<00:00, 128.32it/s]\n",
      "Epoch 1/10:  75%|███████▌  | 3/4 [00:01<00:00,  2.89it/s, loss=0.9993]"
     ]
    },
    {
     "name": "stdout",
     "output_type": "stream",
     "text": [
      "Decoding...\n",
      "[3] loss=1.0689, snr=0.632, cos=-0.042, div=0.002\n",
      "Generating...\n"
     ]
    },
    {
     "name": "stderr",
     "output_type": "stream",
     "text": [
      "Diffusion sampling: 100%|██████████| 10/10 [00:00<00:00, 110.89it/s]\n"
     ]
    },
    {
     "name": "stdout",
     "output_type": "stream",
     "text": [
      "Decoding...\n",
      "[4] loss=0.9993, snr=0.135, cos=0.003, div=0.002\n",
      "Generating...\n"
     ]
    },
    {
     "name": "stderr",
     "output_type": "stream",
     "text": [
      "Diffusion sampling: 100%|██████████| 10/10 [00:00<00:00, 77.87it/s]\n"
     ]
    },
    {
     "name": "stdout",
     "output_type": "stream",
     "text": [
      "Decoding...\n"
     ]
    },
    {
     "name": "stderr",
     "output_type": "stream",
     "text": [
      "                                                                      \r"
     ]
    },
    {
     "name": "stdout",
     "output_type": "stream",
     "text": [
      "[Validation @ step 4] loss=1.0680\n",
      "[Checkpoint] Saved: test_outputs/checkpoints\\best_val.pt\n",
      "[Config] Saved UNet config → test_outputs/checkpoints\\unet_config.yaml\n",
      "[Config] Saved AutoEncoder config → test_outputs/checkpoints\\autoencoder_config.yaml\n",
      "[Validation] New best model saved → test_outputs/checkpoints\\best_val.pt\n",
      "[Checkpoint] Saved: test_outputs/checkpoints/epoch_1.pt\n"
     ]
    },
    {
     "name": "stderr",
     "output_type": "stream",
     "text": [
      "Epoch 2/10:   0%|          | 0/4 [00:00<?, ?it/s, loss=1.0962]"
     ]
    },
    {
     "name": "stdout",
     "output_type": "stream",
     "text": [
      "Generating...\n"
     ]
    },
    {
     "name": "stderr",
     "output_type": "stream",
     "text": [
      "Diffusion sampling: 100%|██████████| 10/10 [00:00<00:00, 93.42it/s]\n",
      "Epoch 2/10:  25%|██▌       | 1/4 [00:00<00:00,  5.31it/s, loss=1.0170]"
     ]
    },
    {
     "name": "stdout",
     "output_type": "stream",
     "text": [
      "Decoding...\n",
      "[5] loss=1.0962, snr=0.615, cos=-0.064, div=0.002\n",
      "Generating...\n"
     ]
    },
    {
     "name": "stderr",
     "output_type": "stream",
     "text": [
      "Diffusion sampling: 100%|██████████| 10/10 [00:00<00:00, 93.63it/s]\n"
     ]
    },
    {
     "name": "stdout",
     "output_type": "stream",
     "text": [
      "Decoding...\n",
      "[6] loss=1.0170, snr=0.364, cos=-0.030, div=0.003\n",
      "Generating...\n"
     ]
    },
    {
     "name": "stderr",
     "output_type": "stream",
     "text": [
      "Diffusion sampling: 100%|██████████| 10/10 [00:00<00:00, 72.00it/s]\n"
     ]
    },
    {
     "name": "stdout",
     "output_type": "stream",
     "text": [
      "Decoding...\n"
     ]
    },
    {
     "name": "stderr",
     "output_type": "stream",
     "text": [
      "Epoch 2/10:  50%|█████     | 2/4 [00:01<00:01,  1.58it/s, loss=1.0408]"
     ]
    },
    {
     "name": "stdout",
     "output_type": "stream",
     "text": [
      "Generating...\n"
     ]
    },
    {
     "name": "stderr",
     "output_type": "stream",
     "text": [
      "Diffusion sampling: 100%|██████████| 10/10 [00:00<00:00, 36.22it/s]\n",
      "Epoch 2/10:  75%|███████▌  | 3/4 [00:01<00:00,  1.97it/s, loss=1.0056]"
     ]
    },
    {
     "name": "stdout",
     "output_type": "stream",
     "text": [
      "Decoding...\n",
      "[7] loss=1.0408, snr=0.666, cos=-0.065, div=0.002\n",
      "Generating...\n"
     ]
    },
    {
     "name": "stderr",
     "output_type": "stream",
     "text": [
      "Diffusion sampling: 100%|██████████| 10/10 [00:00<00:00, 62.50it/s]\n"
     ]
    },
    {
     "name": "stdout",
     "output_type": "stream",
     "text": [
      "Decoding...\n",
      "[8] loss=1.0056, snr=0.728, cos=-0.028, div=0.002\n",
      "Generating...\n"
     ]
    },
    {
     "name": "stderr",
     "output_type": "stream",
     "text": [
      "Diffusion sampling: 100%|██████████| 10/10 [00:00<00:00, 49.88it/s]\n"
     ]
    },
    {
     "name": "stdout",
     "output_type": "stream",
     "text": [
      "Decoding...\n"
     ]
    },
    {
     "name": "stderr",
     "output_type": "stream",
     "text": [
      "                                                                      \r"
     ]
    },
    {
     "name": "stdout",
     "output_type": "stream",
     "text": [
      "[Validation @ step 8] loss=1.0035\n",
      "[Checkpoint] Saved: test_outputs/checkpoints\\best_val.pt\n",
      "[Validation] New best model saved → test_outputs/checkpoints\\best_val.pt\n",
      "[Checkpoint] Saved: test_outputs/checkpoints/epoch_2.pt\n"
     ]
    },
    {
     "name": "stderr",
     "output_type": "stream",
     "text": [
      "Epoch 3/10:   0%|          | 0/4 [00:00<?, ?it/s, loss=1.0796]"
     ]
    },
    {
     "name": "stdout",
     "output_type": "stream",
     "text": [
      "Generating...\n"
     ]
    },
    {
     "name": "stderr",
     "output_type": "stream",
     "text": [
      "Diffusion sampling: 100%|██████████| 10/10 [00:00<00:00, 55.24it/s]\n",
      "Epoch 3/10:  25%|██▌       | 1/4 [00:00<00:01,  2.45it/s, loss=1.0414]"
     ]
    },
    {
     "name": "stdout",
     "output_type": "stream",
     "text": [
      "Decoding...\n",
      "[9] loss=1.0796, snr=0.562, cos=-0.013, div=0.003\n",
      "Generating...\n"
     ]
    },
    {
     "name": "stderr",
     "output_type": "stream",
     "text": [
      "Diffusion sampling: 100%|██████████| 10/10 [00:00<00:00, 67.10it/s]\n"
     ]
    },
    {
     "name": "stdout",
     "output_type": "stream",
     "text": [
      "Decoding...\n",
      "[10] loss=1.0414, snr=0.522, cos=-0.030, div=0.002\n",
      "Generating...\n"
     ]
    },
    {
     "name": "stderr",
     "output_type": "stream",
     "text": [
      "Diffusion sampling: 100%|██████████| 10/10 [00:00<00:00, 52.97it/s]\n"
     ]
    },
    {
     "name": "stdout",
     "output_type": "stream",
     "text": [
      "Decoding...\n"
     ]
    },
    {
     "name": "stderr",
     "output_type": "stream",
     "text": [
      "Epoch 3/10:  50%|█████     | 2/4 [00:01<00:01,  1.33it/s, loss=1.0671]"
     ]
    },
    {
     "name": "stdout",
     "output_type": "stream",
     "text": [
      "Generating...\n"
     ]
    },
    {
     "name": "stderr",
     "output_type": "stream",
     "text": [
      "Diffusion sampling: 100%|██████████| 10/10 [00:00<00:00, 102.79it/s]\n",
      "Epoch 3/10:  75%|███████▌  | 3/4 [00:01<00:00,  2.06it/s, loss=1.0648]"
     ]
    },
    {
     "name": "stdout",
     "output_type": "stream",
     "text": [
      "Decoding...\n",
      "[11] loss=1.0671, snr=0.744, cos=-0.034, div=0.002\n",
      "Generating...\n"
     ]
    },
    {
     "name": "stderr",
     "output_type": "stream",
     "text": [
      "Diffusion sampling: 100%|██████████| 10/10 [00:00<00:00, 38.22it/s]\n"
     ]
    },
    {
     "name": "stdout",
     "output_type": "stream",
     "text": [
      "Decoding...\n",
      "[12] loss=1.0648, snr=0.688, cos=-0.048, div=0.002\n",
      "Generating...\n"
     ]
    },
    {
     "name": "stderr",
     "output_type": "stream",
     "text": [
      "Diffusion sampling: 100%|██████████| 10/10 [00:00<00:00, 58.26it/s]\n"
     ]
    },
    {
     "name": "stdout",
     "output_type": "stream",
     "text": [
      "Decoding...\n"
     ]
    },
    {
     "name": "stderr",
     "output_type": "stream",
     "text": [
      "                                                                      \r"
     ]
    },
    {
     "name": "stdout",
     "output_type": "stream",
     "text": [
      "[Validation @ step 12] loss=1.0083\n",
      "[Checkpoint] Saved: test_outputs/checkpoints/epoch_3.pt\n"
     ]
    },
    {
     "name": "stderr",
     "output_type": "stream",
     "text": [
      "Epoch 4/10:   0%|          | 0/4 [00:00<?, ?it/s, loss=1.0190]"
     ]
    },
    {
     "name": "stdout",
     "output_type": "stream",
     "text": [
      "Generating...\n"
     ]
    },
    {
     "name": "stderr",
     "output_type": "stream",
     "text": [
      "Diffusion sampling: 100%|██████████| 10/10 [00:00<00:00, 74.07it/s]\n",
      "Epoch 4/10:  25%|██▌       | 1/4 [00:00<00:00,  4.08it/s, loss=1.0190]"
     ]
    },
    {
     "name": "stdout",
     "output_type": "stream",
     "text": [
      "Decoding...\n",
      "[13] loss=1.0190, snr=0.430, cos=-0.020, div=0.002\n"
     ]
    },
    {
     "name": "stderr",
     "output_type": "stream",
     "text": [
      "Epoch 4/10:  25%|██▌       | 1/4 [00:00<00:00,  4.08it/s, loss=1.0060]"
     ]
    },
    {
     "name": "stdout",
     "output_type": "stream",
     "text": [
      "Generating...\n"
     ]
    },
    {
     "name": "stderr",
     "output_type": "stream",
     "text": [
      "Diffusion sampling: 100%|██████████| 10/10 [00:00<00:00, 49.78it/s]\n"
     ]
    },
    {
     "name": "stdout",
     "output_type": "stream",
     "text": [
      "Decoding...\n",
      "[14] loss=1.0060, snr=0.393, cos=0.035, div=0.003\n",
      "Generating...\n"
     ]
    },
    {
     "name": "stderr",
     "output_type": "stream",
     "text": [
      "Diffusion sampling: 100%|██████████| 10/10 [00:00<00:00, 27.42it/s]\n"
     ]
    },
    {
     "name": "stdout",
     "output_type": "stream",
     "text": [
      "Decoding...\n"
     ]
    },
    {
     "name": "stderr",
     "output_type": "stream",
     "text": [
      "Epoch 4/10:  50%|█████     | 2/4 [00:01<00:01,  1.06it/s, loss=0.9892]"
     ]
    },
    {
     "name": "stdout",
     "output_type": "stream",
     "text": [
      "Generating...\n"
     ]
    },
    {
     "name": "stderr",
     "output_type": "stream",
     "text": [
      "Diffusion sampling: 100%|██████████| 10/10 [00:00<00:00, 83.41it/s]\n",
      "Epoch 4/10:  75%|███████▌  | 3/4 [00:01<00:00,  1.66it/s, loss=0.9892]"
     ]
    },
    {
     "name": "stdout",
     "output_type": "stream",
     "text": [
      "Decoding...\n",
      "[15] loss=0.9892, snr=0.470, cos=0.016, div=0.003\n"
     ]
    },
    {
     "name": "stderr",
     "output_type": "stream",
     "text": [
      "Epoch 4/10:  75%|███████▌  | 3/4 [00:01<00:00,  1.66it/s, loss=0.9763]"
     ]
    },
    {
     "name": "stdout",
     "output_type": "stream",
     "text": [
      "Generating...\n"
     ]
    },
    {
     "name": "stderr",
     "output_type": "stream",
     "text": [
      "Diffusion sampling: 100%|██████████| 10/10 [00:00<00:00, 23.16it/s]\n"
     ]
    },
    {
     "name": "stdout",
     "output_type": "stream",
     "text": [
      "Decoding...\n",
      "[16] loss=0.9763, snr=0.155, cos=0.020, div=0.002\n",
      "Generating...\n"
     ]
    },
    {
     "name": "stderr",
     "output_type": "stream",
     "text": [
      "Diffusion sampling: 100%|██████████| 10/10 [00:00<00:00, 53.44it/s]\n"
     ]
    },
    {
     "name": "stdout",
     "output_type": "stream",
     "text": [
      "Decoding...\n"
     ]
    },
    {
     "name": "stderr",
     "output_type": "stream",
     "text": [
      "                                                                      \r"
     ]
    },
    {
     "name": "stdout",
     "output_type": "stream",
     "text": [
      "[Validation @ step 16] loss=0.9898\n",
      "[Checkpoint] Saved: test_outputs/checkpoints\\best_val.pt\n",
      "[Validation] New best model saved → test_outputs/checkpoints\\best_val.pt\n",
      "[Checkpoint] Saved: test_outputs/checkpoints/epoch_4.pt\n"
     ]
    },
    {
     "name": "stderr",
     "output_type": "stream",
     "text": [
      "Epoch 5/10:   0%|          | 0/4 [00:00<?, ?it/s, loss=0.9963]"
     ]
    },
    {
     "name": "stdout",
     "output_type": "stream",
     "text": [
      "Generating...\n"
     ]
    },
    {
     "name": "stderr",
     "output_type": "stream",
     "text": [
      "Diffusion sampling: 100%|██████████| 10/10 [00:00<00:00, 41.90it/s]\n",
      "Epoch 5/10:  25%|██▌       | 1/4 [00:00<00:00,  3.11it/s, loss=0.9783]"
     ]
    },
    {
     "name": "stdout",
     "output_type": "stream",
     "text": [
      "Decoding...\n",
      "[17] loss=0.9963, snr=0.304, cos=0.027, div=0.003\n",
      "Generating...\n"
     ]
    },
    {
     "name": "stderr",
     "output_type": "stream",
     "text": [
      "Diffusion sampling: 100%|██████████| 10/10 [00:00<00:00, 75.58it/s]\n"
     ]
    },
    {
     "name": "stdout",
     "output_type": "stream",
     "text": [
      "Decoding...\n",
      "[18] loss=0.9783, snr=0.751, cos=0.048, div=0.002\n",
      "Generating...\n"
     ]
    },
    {
     "name": "stderr",
     "output_type": "stream",
     "text": [
      "Diffusion sampling: 100%|██████████| 10/10 [00:00<00:00, 50.81it/s]\n"
     ]
    },
    {
     "name": "stdout",
     "output_type": "stream",
     "text": [
      "Decoding...\n"
     ]
    },
    {
     "name": "stderr",
     "output_type": "stream",
     "text": [
      "Epoch 5/10:  50%|█████     | 2/4 [00:01<00:01,  1.22it/s, loss=1.0075]"
     ]
    },
    {
     "name": "stdout",
     "output_type": "stream",
     "text": [
      "Generating...\n"
     ]
    },
    {
     "name": "stderr",
     "output_type": "stream",
     "text": [
      "Diffusion sampling: 100%|██████████| 10/10 [00:00<00:00, 77.24it/s]\n",
      "Epoch 5/10:  75%|███████▌  | 3/4 [00:01<00:00,  1.83it/s, loss=1.0075]"
     ]
    },
    {
     "name": "stdout",
     "output_type": "stream",
     "text": [
      "Decoding...\n",
      "[19] loss=1.0075, snr=0.804, cos=0.082, div=0.003\n"
     ]
    },
    {
     "name": "stderr",
     "output_type": "stream",
     "text": [
      "Epoch 5/10:  75%|███████▌  | 3/4 [00:01<00:00,  1.83it/s, loss=1.0316]"
     ]
    },
    {
     "name": "stdout",
     "output_type": "stream",
     "text": [
      "Generating...\n"
     ]
    },
    {
     "name": "stderr",
     "output_type": "stream",
     "text": [
      "Diffusion sampling: 100%|██████████| 10/10 [00:00<00:00, 31.03it/s]\n"
     ]
    },
    {
     "name": "stdout",
     "output_type": "stream",
     "text": [
      "Decoding...\n",
      "[20] loss=1.0316, snr=0.664, cos=0.074, div=0.002\n",
      "Generating...\n"
     ]
    },
    {
     "name": "stderr",
     "output_type": "stream",
     "text": [
      "Diffusion sampling: 100%|██████████| 10/10 [00:00<00:00, 44.05it/s]\n"
     ]
    },
    {
     "name": "stdout",
     "output_type": "stream",
     "text": [
      "Decoding...\n"
     ]
    },
    {
     "name": "stderr",
     "output_type": "stream",
     "text": [
      "                                                                      \r"
     ]
    },
    {
     "name": "stdout",
     "output_type": "stream",
     "text": [
      "[Validation @ step 20] loss=1.0254\n",
      "[Checkpoint] Saved: test_outputs/checkpoints/epoch_5.pt\n"
     ]
    },
    {
     "name": "stderr",
     "output_type": "stream",
     "text": [
      "Epoch 6/10:   0%|          | 0/4 [00:00<?, ?it/s, loss=1.0203]"
     ]
    },
    {
     "name": "stdout",
     "output_type": "stream",
     "text": [
      "Generating...\n"
     ]
    },
    {
     "name": "stderr",
     "output_type": "stream",
     "text": [
      "Diffusion sampling: 100%|██████████| 10/10 [00:00<00:00, 60.42it/s]\n",
      "Epoch 6/10:  25%|██▌       | 1/4 [00:00<00:00,  3.63it/s, loss=1.0203]"
     ]
    },
    {
     "name": "stdout",
     "output_type": "stream",
     "text": [
      "Decoding...\n",
      "[21] loss=1.0203, snr=0.770, cos=0.086, div=0.003\n"
     ]
    },
    {
     "name": "stderr",
     "output_type": "stream",
     "text": [
      "Epoch 6/10:  25%|██▌       | 1/4 [00:00<00:00,  3.63it/s, loss=0.9639]"
     ]
    },
    {
     "name": "stdout",
     "output_type": "stream",
     "text": [
      "Generating...\n"
     ]
    },
    {
     "name": "stderr",
     "output_type": "stream",
     "text": [
      "Diffusion sampling: 100%|██████████| 10/10 [00:00<00:00, 71.88it/s]\n"
     ]
    },
    {
     "name": "stdout",
     "output_type": "stream",
     "text": [
      "Decoding...\n",
      "[22] loss=0.9639, snr=0.466, cos=0.079, div=0.002\n",
      "Generating...\n"
     ]
    },
    {
     "name": "stderr",
     "output_type": "stream",
     "text": [
      "Diffusion sampling: 100%|██████████| 10/10 [00:00<00:00, 61.78it/s]\n"
     ]
    },
    {
     "name": "stdout",
     "output_type": "stream",
     "text": [
      "Decoding...\n"
     ]
    },
    {
     "name": "stderr",
     "output_type": "stream",
     "text": [
      "Epoch 6/10:  50%|█████     | 2/4 [00:01<00:01,  1.39it/s, loss=0.9920]"
     ]
    },
    {
     "name": "stdout",
     "output_type": "stream",
     "text": [
      "Generating...\n"
     ]
    },
    {
     "name": "stderr",
     "output_type": "stream",
     "text": [
      "Diffusion sampling: 100%|██████████| 10/10 [00:00<00:00, 87.47it/s]\n",
      "Epoch 6/10:  75%|███████▌  | 3/4 [00:01<00:00,  2.09it/s, loss=0.9920]"
     ]
    },
    {
     "name": "stdout",
     "output_type": "stream",
     "text": [
      "Decoding...\n",
      "[23] loss=0.9920, snr=0.557, cos=0.122, div=0.003\n"
     ]
    },
    {
     "name": "stderr",
     "output_type": "stream",
     "text": [
      "Epoch 6/10:  75%|███████▌  | 3/4 [00:01<00:00,  2.09it/s, loss=0.9866]"
     ]
    },
    {
     "name": "stdout",
     "output_type": "stream",
     "text": [
      "Generating...\n"
     ]
    },
    {
     "name": "stderr",
     "output_type": "stream",
     "text": [
      "Diffusion sampling: 100%|██████████| 10/10 [00:00<00:00, 39.11it/s]\n"
     ]
    },
    {
     "name": "stdout",
     "output_type": "stream",
     "text": [
      "Decoding...\n",
      "[24] loss=0.9866, snr=0.560, cos=0.083, div=0.002\n",
      "Generating...\n"
     ]
    },
    {
     "name": "stderr",
     "output_type": "stream",
     "text": [
      "Diffusion sampling: 100%|██████████| 10/10 [00:00<00:00, 64.25it/s]"
     ]
    },
    {
     "name": "stdout",
     "output_type": "stream",
     "text": [
      "Decoding...\n"
     ]
    },
    {
     "name": "stderr",
     "output_type": "stream",
     "text": [
      "\n",
      "                                                                      \r"
     ]
    },
    {
     "name": "stdout",
     "output_type": "stream",
     "text": [
      "[Validation @ step 24] loss=0.9819\n",
      "[Checkpoint] Saved: test_outputs/checkpoints\\best_val.pt\n",
      "[Validation] New best model saved → test_outputs/checkpoints\\best_val.pt\n",
      "[Checkpoint] Saved: test_outputs/checkpoints/epoch_6.pt\n"
     ]
    },
    {
     "name": "stderr",
     "output_type": "stream",
     "text": [
      "Epoch 7/10:   0%|          | 0/4 [00:00<?, ?it/s, loss=0.9730]"
     ]
    },
    {
     "name": "stdout",
     "output_type": "stream",
     "text": [
      "Generating...\n"
     ]
    },
    {
     "name": "stderr",
     "output_type": "stream",
     "text": [
      "Diffusion sampling: 100%|██████████| 10/10 [00:00<00:00, 86.33it/s]\n",
      "Epoch 7/10:  25%|██▌       | 1/4 [00:00<00:00,  4.89it/s, loss=0.9726]"
     ]
    },
    {
     "name": "stdout",
     "output_type": "stream",
     "text": [
      "Decoding...\n",
      "[25] loss=0.9730, snr=0.763, cos=0.153, div=0.002\n",
      "Generating...\n"
     ]
    },
    {
     "name": "stderr",
     "output_type": "stream",
     "text": [
      "Diffusion sampling: 100%|██████████| 10/10 [00:00<00:00, 84.43it/s]\n"
     ]
    },
    {
     "name": "stdout",
     "output_type": "stream",
     "text": [
      "Decoding...\n",
      "[26] loss=0.9726, snr=0.401, cos=0.144, div=0.002\n",
      "Generating...\n"
     ]
    },
    {
     "name": "stderr",
     "output_type": "stream",
     "text": [
      "Diffusion sampling: 100%|██████████| 10/10 [00:00<00:00, 56.53it/s]\n"
     ]
    },
    {
     "name": "stdout",
     "output_type": "stream",
     "text": [
      "Decoding...\n"
     ]
    },
    {
     "name": "stderr",
     "output_type": "stream",
     "text": [
      "Epoch 7/10:  50%|█████     | 2/4 [00:01<00:01,  1.33it/s, loss=1.0138]"
     ]
    },
    {
     "name": "stdout",
     "output_type": "stream",
     "text": [
      "Generating...\n"
     ]
    },
    {
     "name": "stderr",
     "output_type": "stream",
     "text": [
      "Diffusion sampling: 100%|██████████| 10/10 [00:00<00:00, 76.39it/s]\n",
      "Epoch 7/10:  75%|███████▌  | 3/4 [00:01<00:00,  1.94it/s, loss=1.0138]"
     ]
    },
    {
     "name": "stdout",
     "output_type": "stream",
     "text": [
      "Decoding...\n",
      "[27] loss=1.0138, snr=0.423, cos=0.164, div=0.003\n"
     ]
    },
    {
     "name": "stderr",
     "output_type": "stream",
     "text": [
      "Epoch 7/10:  75%|███████▌  | 3/4 [00:01<00:00,  1.94it/s, loss=0.9606]"
     ]
    },
    {
     "name": "stdout",
     "output_type": "stream",
     "text": [
      "Generating...\n"
     ]
    },
    {
     "name": "stderr",
     "output_type": "stream",
     "text": [
      "Diffusion sampling: 100%|██████████| 10/10 [00:00<00:00, 27.86it/s]\n"
     ]
    },
    {
     "name": "stdout",
     "output_type": "stream",
     "text": [
      "Decoding...\n",
      "[28] loss=0.9606, snr=0.645, cos=0.154, div=0.003\n",
      "Generating...\n"
     ]
    },
    {
     "name": "stderr",
     "output_type": "stream",
     "text": [
      "Diffusion sampling: 100%|██████████| 10/10 [00:00<00:00, 47.70it/s]\n"
     ]
    },
    {
     "name": "stdout",
     "output_type": "stream",
     "text": [
      "Decoding...\n"
     ]
    },
    {
     "name": "stderr",
     "output_type": "stream",
     "text": [
      "                                                                      \r"
     ]
    },
    {
     "name": "stdout",
     "output_type": "stream",
     "text": [
      "[Validation @ step 28] loss=0.9501\n",
      "[Checkpoint] Saved: test_outputs/checkpoints\\best_val.pt\n",
      "[Validation] New best model saved → test_outputs/checkpoints\\best_val.pt\n",
      "[Checkpoint] Saved: test_outputs/checkpoints/epoch_7.pt\n"
     ]
    },
    {
     "name": "stderr",
     "output_type": "stream",
     "text": [
      "Epoch 8/10:   0%|          | 0/4 [00:00<?, ?it/s, loss=0.9898]"
     ]
    },
    {
     "name": "stdout",
     "output_type": "stream",
     "text": [
      "Generating...\n"
     ]
    },
    {
     "name": "stderr",
     "output_type": "stream",
     "text": [
      "Diffusion sampling: 100%|██████████| 10/10 [00:00<00:00, 71.68it/s]\n",
      "Epoch 8/10:  25%|██▌       | 1/4 [00:00<00:00,  4.36it/s, loss=0.9898]"
     ]
    },
    {
     "name": "stdout",
     "output_type": "stream",
     "text": [
      "Decoding...\n",
      "[29] loss=0.9898, snr=0.398, cos=0.149, div=0.003\n"
     ]
    },
    {
     "name": "stderr",
     "output_type": "stream",
     "text": [
      "Epoch 8/10:  25%|██▌       | 1/4 [00:00<00:00,  4.36it/s, loss=0.9247]"
     ]
    },
    {
     "name": "stdout",
     "output_type": "stream",
     "text": [
      "Generating...\n"
     ]
    },
    {
     "name": "stderr",
     "output_type": "stream",
     "text": [
      "Diffusion sampling: 100%|██████████| 10/10 [00:00<00:00, 69.55it/s]\n"
     ]
    },
    {
     "name": "stdout",
     "output_type": "stream",
     "text": [
      "Decoding...\n",
      "[30] loss=0.9247, snr=0.714, cos=0.217, div=0.002\n",
      "Generating...\n"
     ]
    },
    {
     "name": "stderr",
     "output_type": "stream",
     "text": [
      "Diffusion sampling: 100%|██████████| 10/10 [00:00<00:00, 67.35it/s]"
     ]
    },
    {
     "name": "stdout",
     "output_type": "stream",
     "text": [
      "Decoding...\n"
     ]
    },
    {
     "name": "stderr",
     "output_type": "stream",
     "text": [
      "\n",
      "Epoch 8/10:  50%|█████     | 2/4 [00:01<00:01,  1.44it/s, loss=0.9844]"
     ]
    },
    {
     "name": "stdout",
     "output_type": "stream",
     "text": [
      "Generating...\n"
     ]
    },
    {
     "name": "stderr",
     "output_type": "stream",
     "text": [
      "Diffusion sampling: 100%|██████████| 10/10 [00:00<00:00, 68.33it/s]\n",
      "Epoch 8/10:  75%|███████▌  | 3/4 [00:01<00:00,  2.01it/s, loss=0.9844]"
     ]
    },
    {
     "name": "stdout",
     "output_type": "stream",
     "text": [
      "Decoding...\n",
      "[31] loss=0.9844, snr=0.607, cos=0.232, div=0.002\n"
     ]
    },
    {
     "name": "stderr",
     "output_type": "stream",
     "text": [
      "Epoch 8/10:  75%|███████▌  | 3/4 [00:01<00:00,  2.01it/s, loss=0.9904]"
     ]
    },
    {
     "name": "stdout",
     "output_type": "stream",
     "text": [
      "Generating...\n"
     ]
    },
    {
     "name": "stderr",
     "output_type": "stream",
     "text": [
      "Diffusion sampling: 100%|██████████| 10/10 [00:00<00:00, 62.68it/s]\n"
     ]
    },
    {
     "name": "stdout",
     "output_type": "stream",
     "text": [
      "Decoding...\n",
      "[32] loss=0.9904, snr=0.625, cos=0.215, div=0.003\n",
      "Generating...\n"
     ]
    },
    {
     "name": "stderr",
     "output_type": "stream",
     "text": [
      "Diffusion sampling: 100%|██████████| 10/10 [00:00<00:00, 59.52it/s]\n"
     ]
    },
    {
     "name": "stdout",
     "output_type": "stream",
     "text": [
      "Decoding...\n"
     ]
    },
    {
     "name": "stderr",
     "output_type": "stream",
     "text": [
      "                                                                      \r"
     ]
    },
    {
     "name": "stdout",
     "output_type": "stream",
     "text": [
      "[Validation @ step 32] loss=0.9520\n",
      "[Checkpoint] Saved: test_outputs/checkpoints/epoch_8.pt\n"
     ]
    },
    {
     "name": "stderr",
     "output_type": "stream",
     "text": [
      "Epoch 9/10:   0%|          | 0/4 [00:00<?, ?it/s, loss=0.9707]"
     ]
    },
    {
     "name": "stdout",
     "output_type": "stream",
     "text": [
      "Generating...\n"
     ]
    },
    {
     "name": "stderr",
     "output_type": "stream",
     "text": [
      "Diffusion sampling: 100%|██████████| 10/10 [00:00<00:00, 91.91it/s]\n",
      "Epoch 9/10:  25%|██▌       | 1/4 [00:00<00:00,  5.33it/s, loss=0.9707]"
     ]
    },
    {
     "name": "stdout",
     "output_type": "stream",
     "text": [
      "Decoding...\n",
      "[33] loss=0.9707, snr=0.667, cos=0.264, div=0.002\n"
     ]
    },
    {
     "name": "stderr",
     "output_type": "stream",
     "text": [
      "Epoch 9/10:  25%|██▌       | 1/4 [00:00<00:00,  5.33it/s, loss=0.9798]"
     ]
    },
    {
     "name": "stdout",
     "output_type": "stream",
     "text": [
      "Generating...\n"
     ]
    },
    {
     "name": "stderr",
     "output_type": "stream",
     "text": [
      "Diffusion sampling: 100%|██████████| 10/10 [00:00<00:00, 58.61it/s]\n"
     ]
    },
    {
     "name": "stdout",
     "output_type": "stream",
     "text": [
      "Decoding...\n",
      "[34] loss=0.9798, snr=0.762, cos=0.309, div=0.003\n",
      "Generating...\n"
     ]
    },
    {
     "name": "stderr",
     "output_type": "stream",
     "text": [
      "Diffusion sampling: 100%|██████████| 10/10 [00:00<00:00, 55.33it/s]\n"
     ]
    },
    {
     "name": "stdout",
     "output_type": "stream",
     "text": [
      "Decoding...\n"
     ]
    },
    {
     "name": "stderr",
     "output_type": "stream",
     "text": [
      "Epoch 9/10:  50%|█████     | 2/4 [00:01<00:01,  1.37it/s, loss=0.9417]"
     ]
    },
    {
     "name": "stdout",
     "output_type": "stream",
     "text": [
      "Generating...\n"
     ]
    },
    {
     "name": "stderr",
     "output_type": "stream",
     "text": [
      "Diffusion sampling: 100%|██████████| 10/10 [00:00<00:00, 42.07it/s]\n",
      "Epoch 9/10:  75%|███████▌  | 3/4 [00:01<00:00,  1.84it/s, loss=0.9218]"
     ]
    },
    {
     "name": "stdout",
     "output_type": "stream",
     "text": [
      "Decoding...\n",
      "[35] loss=0.9417, snr=0.621, cos=0.316, div=0.002\n",
      "Generating...\n"
     ]
    },
    {
     "name": "stderr",
     "output_type": "stream",
     "text": [
      "Diffusion sampling: 100%|██████████| 10/10 [00:00<00:00, 84.82it/s]\n"
     ]
    },
    {
     "name": "stdout",
     "output_type": "stream",
     "text": [
      "Decoding...\n",
      "[36] loss=0.9218, snr=0.910, cos=0.385, div=0.002\n",
      "Generating...\n"
     ]
    },
    {
     "name": "stderr",
     "output_type": "stream",
     "text": [
      "Diffusion sampling: 100%|██████████| 10/10 [00:00<00:00, 64.73it/s]\n"
     ]
    },
    {
     "name": "stdout",
     "output_type": "stream",
     "text": [
      "Decoding...\n"
     ]
    },
    {
     "name": "stderr",
     "output_type": "stream",
     "text": [
      "                                                                      \r"
     ]
    },
    {
     "name": "stdout",
     "output_type": "stream",
     "text": [
      "[Validation @ step 36] loss=0.9110\n",
      "[Checkpoint] Saved: test_outputs/checkpoints\\best_val.pt\n",
      "[Validation] New best model saved → test_outputs/checkpoints\\best_val.pt\n",
      "[Checkpoint] Saved: test_outputs/checkpoints/epoch_9.pt\n"
     ]
    },
    {
     "name": "stderr",
     "output_type": "stream",
     "text": [
      "Epoch 10/10:   0%|          | 0/4 [00:00<?, ?it/s, loss=0.9395]"
     ]
    },
    {
     "name": "stdout",
     "output_type": "stream",
     "text": [
      "Generating...\n"
     ]
    },
    {
     "name": "stderr",
     "output_type": "stream",
     "text": [
      "Diffusion sampling: 100%|██████████| 10/10 [00:00<00:00, 95.44it/s]\n",
      "Epoch 10/10:  25%|██▌       | 1/4 [00:00<00:00,  5.17it/s, loss=0.9692]"
     ]
    },
    {
     "name": "stdout",
     "output_type": "stream",
     "text": [
      "Decoding...\n",
      "[37] loss=0.9395, snr=0.740, cos=0.354, div=0.002\n",
      "Generating...\n"
     ]
    },
    {
     "name": "stderr",
     "output_type": "stream",
     "text": [
      "Diffusion sampling: 100%|██████████| 10/10 [00:00<00:00, 72.19it/s]\n"
     ]
    },
    {
     "name": "stdout",
     "output_type": "stream",
     "text": [
      "Decoding...\n",
      "[38] loss=0.9692, snr=0.514, cos=0.332, div=0.002\n",
      "Generating...\n"
     ]
    },
    {
     "name": "stderr",
     "output_type": "stream",
     "text": [
      "Diffusion sampling: 100%|██████████| 10/10 [00:00<00:00, 50.35it/s]\n"
     ]
    },
    {
     "name": "stdout",
     "output_type": "stream",
     "text": [
      "Decoding...\n"
     ]
    },
    {
     "name": "stderr",
     "output_type": "stream",
     "text": [
      "Epoch 10/10:  50%|█████     | 2/4 [00:01<00:01,  1.49it/s, loss=0.9366]"
     ]
    },
    {
     "name": "stdout",
     "output_type": "stream",
     "text": [
      "Generating...\n"
     ]
    },
    {
     "name": "stderr",
     "output_type": "stream",
     "text": [
      "Diffusion sampling: 100%|██████████| 10/10 [00:00<00:00, 80.74it/s]\n",
      "Epoch 10/10:  75%|███████▌  | 3/4 [00:01<00:00,  2.16it/s, loss=0.9317]"
     ]
    },
    {
     "name": "stdout",
     "output_type": "stream",
     "text": [
      "Decoding...\n",
      "[39] loss=0.9366, snr=0.600, cos=0.353, div=0.003\n",
      "Generating...\n"
     ]
    },
    {
     "name": "stderr",
     "output_type": "stream",
     "text": [
      "Diffusion sampling: 100%|██████████| 10/10 [00:00<00:00, 70.90it/s]\n"
     ]
    },
    {
     "name": "stdout",
     "output_type": "stream",
     "text": [
      "Decoding...\n",
      "[40] loss=0.9317, snr=0.333, cos=0.306, div=0.002\n",
      "Generating...\n"
     ]
    },
    {
     "name": "stderr",
     "output_type": "stream",
     "text": [
      "Diffusion sampling: 100%|██████████| 10/10 [00:00<00:00, 53.57it/s]\n"
     ]
    },
    {
     "name": "stdout",
     "output_type": "stream",
     "text": [
      "Decoding...\n"
     ]
    },
    {
     "name": "stderr",
     "output_type": "stream",
     "text": [
      "                                                                       "
     ]
    },
    {
     "name": "stdout",
     "output_type": "stream",
     "text": [
      "[Validation @ step 40] loss=0.9771\n",
      "[Checkpoint] Saved: test_outputs/checkpoints/epoch_10.pt\n",
      "\n",
      "Training complete.\n",
      "Artifacts saved in: c:\\Users\\Hagai.LAPTOP-QAG9263N\\Desktop\\Thesis\\repositories\\ImagiNav\\notebooks\\test_outputs\n",
      "Metric log entries: 40\n",
      "Example metrics: {'step': 1, 'loss': 1.0782171487808228, 'snr': 0.7807475328445435, 'cosine': -0.0346669927239418, 'grad_norm': 1.142073154449463, 'diversity': 0.002451847540214658}\n"
     ]
    },
    {
     "name": "stderr",
     "output_type": "stream",
     "text": [
      "\r"
     ]
    }
   ],
   "source": [
    "\n",
    "trainer = DiffusionTrainer(\n",
    "    unet=unet,\n",
    "    autoencoder=autoencoder,\n",
    "    scheduler=scheduler,\n",
    "    epochs=10,\n",
    "    log_interval=1,       # log every step\n",
    "    sample_interval=2,    # create artifacts every 2 steps\n",
    "    eval_interval=4,\n",
    "    output_dir=\"test_outputs\",\n",
    "    ckpt_dir=\"test_outputs/checkpoints\",\n",
    ")\n",
    "\n",
    "# ============================================================\n",
    "# 4. Run one short training cycle\n",
    "# ============================================================\n",
    "trainer.fit(train_loader, val_loader)\n",
    "\n",
    "# ============================================================\n",
    "# 5. Inspect results\n",
    "# ============================================================\n",
    "print(\"\\nTraining complete.\")\n",
    "print(\"Artifacts saved in:\", os.path.abspath(trainer.output_dir))\n",
    "print(\"Metric log entries:\", len(getattr(trainer, 'metric_log', [])))\n",
    "\n",
    "# Display one sample of recorded metrics (if available)\n",
    "if hasattr(trainer, \"metric_log\") and trainer.metric_log:\n",
    "    print(\"Example metrics:\", trainer.metric_log[0])\n"
   ]
  }
 ],
 "metadata": {
  "kernelspec": {
   "display_name": "ImgiNav",
   "language": "python",
   "name": "python3"
  },
  "language_info": {
   "codemirror_mode": {
    "name": "ipython",
    "version": 3
   },
   "file_extension": ".py",
   "mimetype": "text/x-python",
   "name": "python",
   "nbconvert_exporter": "python",
   "pygments_lexer": "ipython3",
   "version": "3.10.18"
  }
 },
 "nbformat": 4,
 "nbformat_minor": 5
}
