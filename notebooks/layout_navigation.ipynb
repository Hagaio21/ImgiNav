{
 "cells": [
  {
   "cell_type": "markdown",
   "metadata": {},
   "source": [
    "# Interactive Layout-to-Graph Pathfinding 🗺️\n",
    "\n",
    "This Jupyter Notebook converts a 2D layout image (like a floor plan) into a traversability graph and then uses the **A\\* algorithm** to find the most efficient path between two points you select.\n",
    "\n",
    "### How It Works:\n",
    "1.  **Configuration**: You define the paths to your layout image, its corresponding color legend, and a custom `KEYWORD_COSTS` dictionary. This dictionary determines how \"expensive\" it is to move through different types of objects (e.g., making 'rugs' cost more to traverse than 'floor').\n",
    "2.  **Grid Generation**: The notebook reads your image and uses the legend to create a cost grid. Each cell in the grid gets a movement cost based on the color and your `KEYWORD_COSTS`. Obstacles like 'walls' or 'tables' are assigned an infinite cost, making them impassable.\n",
    "3.  **Graph Creation**: A `networkx` graph is built from the cost grid, where each traversable cell is a node, and edges connect it to its neighbors.\n",
    "4.  **Interactive Pathfinding**: A plot of the grid will appear, allowing you to click to select your **start** and **goal** nodes.\n",
    "5.  **A\\* and Visualization**: The A\\* algorithm calculates the optimal path, which is then drawn over the cost grid and saved as a new image.\n",
    "\n",
    "To get started, place your `reconstructed.png` and `color_legend.json` files in a folder named `data` in the same directory as this notebook. Then, simply run the cells in order!"
   ]
  },
  {
   "cell_type": "markdown",
   "metadata": {},
   "source": [
    "### Imports\n",
    "All necessary libraries are imported here. The `%matplotlib tk` magic command is used to enable interactive plotting windows."
   ]
  },
  {
   "cell_type": "code",
   "execution_count": 2,
   "metadata": {},
   "outputs": [],
   "source": [
    "import json\n",
    "import random\n",
    "from pathlib import Path\n",
    "import numpy as np\n",
    "import networkx as nx\n",
    "from PIL import Image\n",
    "import matplotlib.pyplot as plt\n",
    "from scipy.spatial import cKDTree\n",
    "\n",
    "# Use the TkAgg backend for interactive matplotlib plots\n",
    "%matplotlib tk"
   ]
  },
  {
   "cell_type": "markdown",
   "metadata": {},
   "source": [
    "## 1. Configuration ⚙️\n",
    "Modify the variables in this section to experiment with different layouts and cost structures."
   ]
  },
  {
   "cell_type": "code",
   "execution_count": 3,
   "metadata": {},
   "outputs": [],
   "source": [
    "# --- Main Configuration ---\n",
    "\n",
    "# 📂 Set the base path for your input files.\n",
    "# The notebook expects a 'data' folder in the same directory.\n",
    "BASE_PATH = Path(\"./test_images\")\n",
    "\n",
    "# 🖼️ The name of your layout image file.\n",
    "IMAGE_NAME = \"reconstructed.png\"\n",
    "\n",
    "# 🎨 The name of your color legend JSON file.\n",
    "LEGEND_NAME = \"color_legend.json\"\n",
    "\n",
    "# 📏 The size of each grid cell in pixels. A smaller size results in a more detailed\n",
    "# grid and graph, but takes longer to process.\n",
    "CELL_SIZE = 1\n",
    "\n",
    "# 💸 Define the cost of traversing different objects.\n",
    "# Higher values mean the path will try to avoid these areas.\n",
    "# np.inf makes an object an impassable obstacle.\n",
    "KEYWORD_COSTS = {\n",
    "    # Traversable with low cost\n",
    "    \"floor\": 1.0,\n",
    "    \"background\": 1.0,\n",
    "\n",
    "    # Traversable with higher cost (path will avoid if possible)\n",
    "    \"lamp\": 1.25,\n",
    "    \"bed\": 3.0,\n",
    "    \"rug\": 5.0,        # Example: making rugs \"slower\" to cross\n",
    "    \"plant\": 10.0,\n",
    "\n",
    "    # Obstacles (impassable)\n",
    "    \"wall\": np.inf,\n",
    "    \"table\": np.inf,\n",
    "    \"chair\": np.inf,\n",
    "    \"sofa\": np.inf,\n",
    "    \"cabinet\": np.inf,\n",
    "    \"shelf\": np.inf,\n",
    "    \"door\": np.inf,\n",
    "    \"window\": np.inf,\n",
    "    \"wardrobe\": np.inf,\n",
    "    \"desk\": np.inf,\n",
    "    \"toilet\": np.inf,\n",
    "    \"sink\": np.inf,\n",
    "    \"bath\": np.inf,\n",
    "    \"appliance\": np.inf\n",
    "}\n",
    "\n",
    "# --- Construct full paths ---\n",
    "IMAGE_PATH = BASE_PATH / IMAGE_NAME\n",
    "LEGEND_PATH = BASE_PATH / LEGEND_NAME\n",
    "\n",
    "# --- Check for files ---\n",
    "if not IMAGE_PATH.exists() or not LEGEND_PATH.exists():\n",
    "    print(\"❌ Error: Make sure your image and legend files are in the 'data' directory!\")\n",
    "    print(f\"   - Looking for: {IMAGE_PATH}\")\n",
    "    print(f\"   - Looking for: {LEGEND_PATH}\")"
   ]
  },
  {
   "cell_type": "markdown",
   "metadata": {},
   "source": [
    "## 2. Core Functions 🛠️\n",
    "These cells contain the functions that power the conversion and pathfinding logic. You don't need to modify them for typical use."
   ]
  },
  {
   "cell_type": "code",
   "execution_count": 4,
   "metadata": {},
   "outputs": [],
   "source": [
    "# Helper class for interactive point selection\n",
    "class PointSelector:\n",
    "    def __init__(self, ax, grid):\n",
    "        self.ax = ax\n",
    "        self.grid = grid\n",
    "        self.points = []\n",
    "        self.cid = ax.figure.canvas.mpl_connect('button_press_event', self)\n",
    "\n",
    "    def __call__(self, event):\n",
    "        # Ignore clicks outside the plot axes\n",
    "        if event.inaxes != self.ax:\n",
    "            return\n",
    "\n",
    "        # Convert float coordinates to integer grid indices\n",
    "        x, y = int(round(event.xdata)), int(round(event.ydata))\n",
    "        rows, cols = self.grid.shape\n",
    "\n",
    "        # Check if the point is valid (within bounds and on a traversable cell)\n",
    "        if not (0 <= y < rows and 0 <= x < cols and np.isfinite(self.grid[y, x])):\n",
    "            print(f\"⚠️ Invalid selection at ({y}, {x}). Please select a traversable (non-obstacle) point.\")\n",
    "            return\n",
    "\n",
    "        node = (y, x)\n",
    "        self.points.append(node)\n",
    "\n",
    "        if len(self.points) == 1:\n",
    "            print(f\"📍 Start node selected: {node}\")\n",
    "            self.ax.plot(x, y, 'go', markersize=10, label='Start')\n",
    "            print(\"Please click on the grid to select the GOAL node.\")\n",
    "            self.ax.figure.canvas.draw()\n",
    "        elif len(self.points) == 2:\n",
    "            print(f\"🏁 Goal node selected: {node}\")\n",
    "            self.ax.plot(x, y, 'r*', markersize=12, label='Goal')\n",
    "            self.ax.figure.canvas.draw()\n",
    "            # Disconnect the event handler and close the plot to continue\n",
    "            self.ax.figure.canvas.mpl_disconnect(self.cid)\n",
    "            # Use a short timer to ensure the last point is drawn before closing\n",
    "            self.ax.figure.canvas.start_event_loop(timeout=0.5)\n",
    "\n",
    "def generate_cost_map(legend: dict, keyword_costs: dict) -> dict:\n",
    "    \"\"\"\n",
    "    Methodically generates a cost map based on a dictionary of keyword-cost pairs.\n",
    "    \"\"\"\n",
    "    cost_map = {}\n",
    "    print(\"🤖 Generating advanced cost map from keywords...\")\n",
    "\n",
    "    for label in legend:\n",
    "        lowered_label = label.lower()\n",
    "        matched_costs = [cost for keyword, cost in keyword_costs.items() if keyword in lowered_label]\n",
    "        cost_map[label] = max(matched_costs) if matched_costs else np.inf\n",
    "\n",
    "    print(\"✅ Advanced cost map generated.\")\n",
    "    return cost_map\n",
    "\n",
    "def create_traversability_grid(image_path: Path, legend_path: Path, cell_size: int, cost_map: dict) -> np.ndarray:\n",
    "    \"\"\"\n",
    "    Converts a layout image into a cost-based traversability grid using nearest-color matching.\n",
    "    \"\"\"\n",
    "    print(f\"▶️ Loading image '{image_path.name}' and legend '{legend_path.name}'...\")\n",
    "    try:\n",
    "        img = Image.open(image_path).convert('RGB')\n",
    "        img_array = np.array(img)\n",
    "        with open(legend_path, 'r', encoding='utf-8') as f:\n",
    "            legend = json.load(f)\n",
    "    except FileNotFoundError as e:\n",
    "        print(f\"❌ Error: {e}\")\n",
    "        raise\n",
    "\n",
    "    height, width, _ = img_array.shape\n",
    "    legend_labels = list(legend.keys())\n",
    "    legend_colors = np.array(list(legend.values()))\n",
    "    cost_lookup = np.array([cost_map.get(label, np.inf) for label in legend_labels])\n",
    "\n",
    "    print(\"ℹ️ Building color KD-Tree for fast nearest-neighbor lookup...\")\n",
    "    color_tree = cKDTree(legend_colors)\n",
    "\n",
    "    print(\"ℹ️ Mapping pixels to nearest legend color to determine costs...\")\n",
    "    pixels = img_array.reshape(-1, 3)\n",
    "    _, closest_color_indices = color_tree.query(pixels, k=1)\n",
    "    high_res_costs = cost_lookup[closest_color_indices].reshape(height, width)\n",
    "\n",
    "    grid_height, grid_width = height // cell_size, width // cell_size\n",
    "    print(f\"ℹ️ Image dimensions: {width}x{height} pixels.\")\n",
    "    print(f\"ℹ️ Grid cell size: {cell_size}x{cell_size} pixels.\")\n",
    "    print(f\"ℹ️ Resulting graph dimensions: {grid_width}x{grid_height} nodes.\")\n",
    "    traversability_grid = np.zeros((grid_height, grid_width), dtype=np.float32)\n",
    "\n",
    "    print(\"ℹ️ Downsampling high-resolution cost map to final grid...\")\n",
    "    for r in range(grid_height):\n",
    "        for c in range(grid_width):\n",
    "            r_start, r_end = r * cell_size, (r + 1) * cell_size\n",
    "            c_start, c_end = c * cell_size, (c + 1) * cell_size\n",
    "            cell_block = high_res_costs[r_start:r_end, c_start:c_end]\n",
    "            traversability_grid[r, c] = np.max(cell_block)\n",
    "\n",
    "    print(\"✅ Cost-based traversability grid generated successfully.\")\n",
    "    return traversability_grid\n",
    "\n",
    "def create_networkx_graph(grid: np.ndarray) -> nx.Graph:\n",
    "    \"\"\"\n",
    "    Converts a cost-based traversability grid into a NetworkX graph.\n",
    "    \"\"\"\n",
    "    G = nx.Graph()\n",
    "    rows, cols = grid.shape\n",
    "    \n",
    "    for r in range(rows):\n",
    "        for c in range(cols):\n",
    "            if np.isfinite(grid[r, c]):\n",
    "                G.add_node((r, c))\n",
    "\n",
    "    for r, c in G.nodes():\n",
    "        for dr in [-1, 0, 1]:\n",
    "            for dc in [-1, 0, 1]:\n",
    "                if dr == 0 and dc == 0: continue\n",
    "                neighbor = (r + dr, c + dc)\n",
    "                if neighbor in G:\n",
    "                    cost1 = grid[r, c]\n",
    "                    cost2 = grid[neighbor[0], neighbor[1]]\n",
    "                    avg_cost = (cost1 + cost2) / 2.0\n",
    "                    distance = np.sqrt(dr**2 + dc**2)\n",
    "                    edge_weight = avg_cost * distance\n",
    "                    G.add_edge((r, c), neighbor, weight=edge_weight)\n",
    "    \n",
    "    print(f\"✅ NetworkX graph created with {G.number_of_nodes()} nodes and {G.number_of_edges()} edges.\")\n",
    "    return G\n",
    "\n",
    "def get_interactive_nodes(grid: np.ndarray):\n",
    "    \"\"\"\n",
    "    Displays the grid and allows the user to interactively select start and goal nodes.\n",
    "    \"\"\"\n",
    "    print(\"\\n--- Interactive Node Selection ---\")\n",
    "    print(\"A plot window has opened. Please click on the grid to select the START node.\")\n",
    "    \n",
    "    fig, ax = plt.subplots(figsize=(10, 8))\n",
    "    viz_grid = np.copy(grid)\n",
    "    if np.any(np.isinf(viz_grid)):\n",
    "        max_finite_cost = np.max(viz_grid[np.isfinite(viz_grid)], initial=0)\n",
    "        viz_grid[np.isinf(viz_grid)] = max_finite_cost * 1.5\n",
    "    \n",
    "    im = ax.imshow(viz_grid, cmap='viridis', interpolation='nearest')\n",
    "    ax.set_title(\"Interactively Select Start and Goal Nodes\", fontsize=16)\n",
    "    cbar = fig.colorbar(im, ax=ax, fraction=0.046, pad=0.04)\n",
    "    cbar.set_label('Movement Cost', rotation=270, labelpad=15)\n",
    "\n",
    "    selector = PointSelector(ax, grid)\n",
    "    plt.show(block=True) # This will block execution until the plot is closed\n",
    "\n",
    "    if len(selector.points) == 2:\n",
    "        return selector.points[0], selector.points[1]\n",
    "    else:\n",
    "        print(\"\\n⚠️ Node selection was cancelled or not completed.\")\n",
    "        return None, None\n",
    "\n",
    "def run_astar_pathfinding(graph: nx.Graph, start_node: tuple, goal_node: tuple):\n",
    "    \"\"\"\n",
    "    Finds a path between two specified nodes using A*.\n",
    "    \"\"\"\n",
    "    print(\"\\n--- Running A* Pathfinding ---\")\n",
    "    if start_node is None or goal_node is None:\n",
    "        return None # Return if nodes were not selected\n",
    "\n",
    "    if start_node not in graph or goal_node not in graph:\n",
    "        print(f\"❌ Error: Start {start_node} or Goal {goal_node} is not a traversable node.\")\n",
    "        return None\n",
    "    \n",
    "    print(f\"📍 Start Node: {start_node}\")\n",
    "    print(f\"🏁 Goal Node:  {goal_node}\")\n",
    "\n",
    "    def heuristic(a, b):\n",
    "        return np.sqrt((a[0] - b[0])**2 + (a[1] - b[1])**2)\n",
    "\n",
    "    try:\n",
    "        path = nx.astar_path(graph, start_node, goal_node, heuristic=heuristic, weight='weight')\n",
    "        path_length = nx.astar_path_length(graph, start_node, goal_node, heuristic=heuristic, weight='weight')\n",
    "        print(f\"✅ Path found with {len(path)} nodes and a total cost of {path_length:.2f}.\")\n",
    "        return path\n",
    "    except nx.NetworkXNoPath:\n",
    "        print(\"❌ No path could be found between the start and goal nodes.\")\n",
    "        return None\n",
    "\n",
    "def visualize_results(image_path: Path, grid: np.ndarray, cell_size: int, path: list = None):\n",
    "    \"\"\"\n",
    "    Generates and displays a comparison plot, including the A* path if provided.\n",
    "    \"\"\"\n",
    "    # Use a non-interactive backend for saving the final plot\n",
    "    plt.switch_backend('Agg')\n",
    "    \n",
    "    img = Image.open(image_path)\n",
    "    fig, (ax1, ax2) = plt.subplots(1, 2, figsize=(14, 6))\n",
    "    fig.suptitle(f\"Layout to Graph Conversion & A* Path (Cell Size: {cell_size}px)\", fontsize=16)\n",
    "\n",
    "    ax1.imshow(img); ax1.set_title(\"Original Layout Image\")\n",
    "    ax1.set_xticks([]); ax1.set_yticks([])\n",
    "\n",
    "    viz_grid = np.copy(grid)\n",
    "    if np.any(np.isinf(viz_grid)):\n",
    "        max_finite_cost = np.max(viz_grid[np.isfinite(viz_grid)], initial=0)\n",
    "        viz_grid[np.isinf(viz_grid)] = max_finite_cost * 1.5\n",
    "    im = ax2.imshow(viz_grid, cmap='viridis', interpolation='nearest')\n",
    "    ax2.set_title(\"Resulting Cost Grid & A* Path\")\n",
    "    cbar = fig.colorbar(im, ax=ax2, fraction=0.046, pad=0.04)\n",
    "    cbar.set_label('Movement Cost', rotation=270, labelpad=15)\n",
    "    \n",
    "    if path:\n",
    "        y_coords = [node[0] for node in path]\n",
    "        x_coords = [node[1] for node in path]\n",
    "        ax2.plot(x_coords, y_coords, color='red', linewidth=2, marker='o', markersize=4, label='A* Path')\n",
    "        ax2.plot(path[0][1], path[0][0], 'go', markersize=10, label='Start')\n",
    "        ax2.plot(path[-1][1], path[-1][0], 'r*', markersize=12, label='Goal')\n",
    "        ax2.legend()\n",
    "    \n",
    "    plt.tight_layout(rect=[0, 0.03, 1, 0.95])\n",
    "    output_filename = image_path.stem.replace('_image', '_pathfinding_visualization.png')\n",
    "    plt.savefig(output_filename)\n",
    "    print(f\"\\n💾 Visualization with path saved to '{output_filename}'\")\n",
    "    \n",
    "    # Display the plot inline in the notebook\n",
    "    plt.show()"
   ]
  },
  {
   "cell_type": "markdown",
   "metadata": {},
   "source": [
    "## 3. Execution Workflow 🚀\n",
    "Run the following cells in order to perform the analysis."
   ]
  },
  {
   "cell_type": "markdown",
   "metadata": {},
   "source": [
    "### Step 3.1: Generate Cost Map\n",
    "This step creates the mapping from object labels in your legend to the movement costs defined in the configuration."
   ]
  },
  {
   "cell_type": "code",
   "execution_count": 5,
   "metadata": {},
   "outputs": [
    {
     "name": "stdout",
     "output_type": "stream",
     "text": [
      "🤖 Generating advanced cost map from keywords...\n",
      "✅ Advanced cost map generated.\n",
      "\n",
      "Generated Cost Map:\n",
      "{'200 - on the floor': 1.0, '300 - on top of others': inf, '400 - attach to wall': inf, '500 - attach to ceiling': inf, 'Bar': inf, 'Barstool': inf, 'Bed Frame': 3.0, 'Bookcase / jewelry Armoire': inf, 'Bunk Bed': 3.0, 'Ceiling Lamp': 1.25, 'Chaise Longue Sofa': inf, 'Children Cabinet': inf, 'Classic Chinese Chair': inf, 'Coffee Table': inf, 'Corner/Side Table': inf, 'Couch Bed': 3.0, 'Desk': inf, 'Dining Chair': inf, 'Dining Table': inf, 'Double Bed': 3.0, 'Drawer Chest / Corner cabinet': inf, 'Dressing Chair': inf, 'Dressing Table': inf, 'Floor Lamp': 1.25, 'Folding chair': inf, 'Footstool / Sofastool / Bed End Stool / Stool': inf, 'Hanging Chair': inf, 'Kids Bed': 3.0, 'King-size Bed': 3.0, 'L-shaped Sofa': inf, 'Lazy Sofa': inf, 'Lounge Chair / Book-chair / Computer Chair': inf, 'Lounge Chair / Cafe Chair / Office Chair': inf, 'Loveseat Sofa': inf, 'Nightstand': inf, 'Pendant Lamp': 1.25, 'Round End Table': inf, 'Shelf': inf, 'Shoe Cabinet': inf, 'Sideboard / Side Cabinet / Console': inf, 'Sideboard / Side Cabinet / Console Table': inf, 'Single bed': 3.0, 'TV Stand': inf, 'Tea Table': inf, 'Three-Seat / Multi-person sofa': inf, 'Three-Seat / Multi-seat Sofa': inf, 'Two-seat Sofa': inf, 'U-shaped Sofa': inf, 'Wall Lamp': inf, 'Wardrobe': inf, 'Wine Cabinet': inf, 'Wine Cooler': inf, 'accessory/accessory - ceiling-attached': inf, 'accessory/accessory - floor-based': 1.0, 'accessory/accessory - on top of others': inf, 'accessory/accessory - wall-attached': inf, 'accessory/bathroom accessory - ceiling-attached': inf, 'accessory/bathroom accessory - floor-based': inf, 'accessory/bathroom accessory - on top of others': inf, 'accessory/bathroom accessory - wall-attached': inf, 'accessory/bedding': 3.0, 'accessory/bottom right angle ribbon lamp': 1.25, 'accessory/clock - floor-based': 1.0, 'accessory/clock - on top of others': inf, 'accessory/clock - wall-attached': inf, 'accessory/clothes': inf, 'accessory/kitchen decoration-horizontal': inf, 'accessory/kitchen decoration-wall attached': inf, 'accessory/pillow': inf, 'accessory/ribbon lamp': 1.25, 'accessory/ribbon lamp on board': 1.25, 'accessory/simulated cloth': inf, 'accessory/spot light': inf, 'accessory/top right angle ribbon lamp': 1.25, 'appliance/appliance - ceiling-attached': inf, 'appliance/appliance - floor-based': inf, 'appliance/appliance - on top of others': inf, 'appliance/appliance - wall-attached': inf, 'appliance/bathroom heater with light': inf, 'appliance/others': inf, 'appliance/range & cooktop': inf, 'appliance/refrigerator': inf, 'appliance/room heater': inf, 'appliance/ventilation - ceiling-attached': inf, 'appliance/ventilation - wall-attached': inf, 'appliance/washer': inf, 'appliance/water heater - electrical': inf, 'appliance/water heater - gas': inf, 'armchair': inf, 'art/art - wall-attached': inf, 'attachment/countertop': inf, 'attachment/taps': inf, 'barn door/barn door': inf, 'basin/floor-based double basin with cabinet': inf, 'basin/floor-based single basin with cabinet': inf, 'basin/single basin - on top of others': inf, 'bath/cornered bath': inf, 'bath/drop-in bath': inf, 'bath/freestanding bath': inf, 'bed/bed set': 3.0, 'bed/crib': 3.0, 'bed/king-size bed': 3.0, 'bed/matress': 3.0, 'bed/queen-size bed': 3.0, 'bed/single bed': 3.0, 'build element/air-conditioning vent': inf, 'build element/background wall': inf, 'build element/baseboard': inf, 'build element/beam': inf, 'build element/ceiling decoration': inf, 'build element/ceiling molding': inf, 'build element/column': inf, 'build element/fireplace': inf, 'build element/floor drain': 1.0, 'build element/gypsum ceiling': inf, 'build element/kitchen ceiling': inf, 'build element/railing': inf, 'build element/seam filler': inf, 'build element/slab niche': inf, 'build element/slab opening': inf, 'build element/toilet hole': inf, 'build element/wainscot': inf, 'build element/wall niche': inf, 'build element/wall opening': inf, 'build element/wall upholstery': inf, 'cabinet/bookcase - L shaped': inf, 'cabinet/floor-based cabinet': inf, 'cabinet/floor-based kitchen cabinet': inf, 'cabinet/hutch&buffet': inf, 'cabinet/wall-attached cabinet': inf, 'chair/armchair': inf, 'chair/bar chair': inf, 'chair/chair': inf, 'curtain/curtain': inf, 'door/door window': inf, 'door/double sliding door': inf, 'door/double swing door - asymmetrical': inf, 'door/double swing door - symmetrical': inf, 'door/entry/double swing door - asymmetrical': inf, 'door/entry/double swing door - symmetrical': inf, 'door/entry/single swing door': inf, 'door/folding door 1-4': inf, 'door/folding door 2-2': inf, 'door/folding door 3': inf, 'door/folding door 4': inf, 'door/quad sliding door': inf, 'door/single swing door': inf, 'door/triple sliding door': inf, 'electric/distribution box': inf, 'electric/socket strong - air-conditioning outlet': inf, 'electric/socket strong - five-hole socket': inf, 'electric/socket strong - five-hole socket (with switch )': inf, 'electric/socket strong - multi-function socket': inf, 'electric/socket strong - three-hole socket': inf, 'electric/socket strong - three-hole socket (with switch )': inf, 'electric/socket strong - waterproof socket': inf, 'electric/socket weak - telephone jack+network': inf, 'electric/socket weak - tv cable': inf, 'electric/socket weak - tv cable+network': inf, 'electric/switch - quadruple switch': inf, 'electric/switch - single switch': inf, 'electric/switch - tandem switch': inf, 'electric/switch - triple switch': inf, 'electric/switch - waterproof switch': inf, 'electric/switch - yuba switch': inf, 'electric/waterproof panel': inf, 'electric/weak box': inf, 'electronics/TV - on top of others': inf, 'electronics/TV - wall-attached': inf, 'electronics/air-conditioner - floor-based': 1.0, 'electronics/air-conditioner - wall-attached': inf, 'electronics/computer': inf, 'kitchen cabinet/cabinet body': inf, 'kitchen cabinet/cbnt appliance': inf, 'kitchen cabinet/cbnt component': inf, 'kitchen cabinet/cbnt deco panel': inf, 'kitchen cabinet/cbnt door': inf, 'kitchen cabinet/cbnt drawer': inf, 'kitchen cabinet/cbnt flip door': inf, 'kitchen cabinet/cbnt handle type 0': inf, 'kitchen cabinet/cbnt handle type 1': inf, 'lighting/ceiling light': inf, 'lighting/chandelier': inf, 'lighting/desk lamp': inf, 'lighting/downlight': inf, 'lighting/floor lamp': 1.25, 'lighting/pendant light': inf, 'lighting/single spotlight - ceiling-attached': inf, 'lighting/track-mounted spotlight- ceiling-attached': inf, 'lighting/wall lamp': inf, 'material/antique tiles': inf, 'material/flooring - reinforced': 1.0, 'material/marble tiles': inf, 'material/matt tiles': inf, 'material/paint': inf, 'material/wood - high gloss': inf, 'material/wood grain tiles': inf, 'media unit/floor-based media unit': 1.0, 'media unit/wall-attached media unit': inf, 'meter/gas meter': inf, 'meter/water meter': inf, 'mirror/floor-based mirror': 1.0, 'mirror/wall-attached mirror': inf, 'outdoor furniture/outdoor furniture - floor-based': inf, 'outdoor furniture/outdoor furniture - wall-attached': inf, 'outdoor furniture/playground equipment': inf, 'plants/plants - floor-based': 10.0, 'plants/plants - on top of others': 10.0, 'recreation/musical instrument': inf, 'recreation/toy - floor-based': 1.0, 'recreation/toy - on top of others': inf, 'room/door': inf, 'rug/rug': 5.0, 'shelf/book shelf': inf, 'shelf/decorative shelf': inf, 'shower/ceiling-attached shower head': inf, 'shower/floor based shower room': 1.0, 'shower/shower screen': inf, 'shower/wall-attached shower head': inf, 'shower/wall-attached shower room': inf, 'sink/drop-in double kitchen sink': inf, 'sink/drop-in single kitchen sink': inf, 'smart home/smart home controller': inf, 'smart home/smart home curtain acc': inf, 'smart home/smart home security': inf, 'smart home/smart home socket': inf, 'smart home/smart home switch': inf, 'sofa/ multi seat sofa': inf, 'sofa/double seat sofa': inf, 'sofa/left corner sofa': inf, 'sofa/lounge chair': inf, 'sofa/ottoman': inf, 'sofa/right corner sofa': inf, 'sofa/single seat sofa': inf, 'sofa/sofa bed': inf, 'sofa/sofa set': inf, 'sofa/type L sofa': inf, 'stair/spiral stair - left': inf, 'stair/spiral stair - right': inf, 'stair/stair - left-turn': inf, 'stair/stair - right-turn': inf, 'storage unit/armoire': inf, 'storage unit/armoire - L shaped': inf, 'storage unit/dresser': inf, 'storage unit/floor-based storage unit': 1.0, 'storage unit/stackable storage unit': inf, 'storage unit/wall-attached storage unit': inf, 'table/coffee table': inf, 'table/coffee table - irregular shape': inf, 'table/coffee table - rectangular': inf, 'table/coffee table - round': inf, 'table/console table': inf, 'table/dining table': inf, 'table/dining table - round': inf, 'table/dining table - square': inf, 'table/dinning set': inf, 'table/kitchen kart': inf, 'table/majiang table': inf, 'table/night table': inf, 'table/side table': inf, 'table/table': inf, 'toilet/floor-based toilet': inf, 'toilet/wall-attached toilet': inf, 'unknown': inf, 'vanity/single vanity - wall-attached': inf, 'wardrobe/box': inf, 'wardrobe/cbnt deco panel': inf, 'wardrobe/clothes rack on bottom': inf, 'wardrobe/clothes rail': inf, 'wardrobe/door core': inf, 'wardrobe/drawer door': inf, 'wardrobe/hanging clothes': inf, 'wardrobe/lifting clothes hanger': inf, 'wardrobe/mirror': inf, 'water/cold hot water': inf, 'water/cold water': inf, 'water/hot water': inf, 'water/water supply': inf, 'window/arched window': inf, 'window/bay window': inf, 'window/floor-based window': inf, 'window/window': inf, 'wall': inf, 'floor': 1.0}\n"
     ]
    }
   ],
   "source": [
    "with open(LEGEND_PATH, 'r', encoding='utf-8') as f:\n",
    "    legend_data = json.load(f)\n",
    "\n",
    "COST_MAP = generate_cost_map(legend_data, KEYWORD_COSTS)\n",
    "print(\"\\nGenerated Cost Map:\")\n",
    "print(COST_MAP)"
   ]
  },
  {
   "cell_type": "markdown",
   "metadata": {},
   "source": [
    "### Step 3.2: Create Traversability Grid\n",
    "Here, we convert the source image into a 2D grid where each cell's value represents its movement cost."
   ]
  },
  {
   "cell_type": "code",
   "execution_count": 6,
   "metadata": {},
   "outputs": [
    {
     "name": "stdout",
     "output_type": "stream",
     "text": [
      "▶️ Loading image 'reconstructed.png' and legend 'color_legend.json'...\n",
      "ℹ️ Building color KD-Tree for fast nearest-neighbor lookup...\n",
      "ℹ️ Mapping pixels to nearest legend color to determine costs...\n",
      "ℹ️ Image dimensions: 1024x1024 pixels.\n",
      "ℹ️ Grid cell size: 1x1 pixels.\n",
      "ℹ️ Resulting graph dimensions: 1024x1024 nodes.\n",
      "ℹ️ Downsampling high-resolution cost map to final grid...\n",
      "✅ Cost-based traversability grid generated successfully.\n"
     ]
    }
   ],
   "source": [
    "grid = create_traversability_grid(IMAGE_PATH, LEGEND_PATH, CELL_SIZE, COST_MAP)"
   ]
  },
  {
   "cell_type": "markdown",
   "metadata": {},
   "source": [
    "### Step 3.3: Create NetworkX Graph\n",
    "The cost grid is converted into a graph data structure, which is required for the A\\* algorithm."
   ]
  },
  {
   "cell_type": "code",
   "execution_count": 7,
   "metadata": {},
   "outputs": [
    {
     "name": "stdout",
     "output_type": "stream",
     "text": [
      "✅ NetworkX graph created with 299900 nodes and 1172298 edges.\n"
     ]
    }
   ],
   "source": [
    "graph = create_networkx_graph(grid)"
   ]
  },
  {
   "cell_type": "markdown",
   "metadata": {},
   "source": [
    "### Step 3.4: Interactively Select Start & Goal Nodes\n",
    "Running this cell will open a new window showing the cost grid.\n",
    "- **First click**: Select the **START** node.\n",
    "- **Second click**: Select the **GOAL** node.\n",
    "The window will close automatically after you select the goal."
   ]
  },
  {
   "cell_type": "code",
   "execution_count": 8,
   "metadata": {},
   "outputs": [
    {
     "name": "stdout",
     "output_type": "stream",
     "text": [
      "\n",
      "--- Interactive Node Selection ---\n",
      "A plot window has opened. Please click on the grid to select the START node.\n",
      "📍 Start node selected: (267, 516)\n",
      "Please click on the grid to select the GOAL node.\n",
      "🏁 Goal node selected: (443, 655)\n"
     ]
    }
   ],
   "source": [
    "start_node, goal_node = get_interactive_nodes(grid)"
   ]
  },
  {
   "cell_type": "markdown",
   "metadata": {},
   "source": [
    "### Step 3.5: Run A* and Visualize Path\n",
    "If start and goal nodes were selected, this cell runs the A\\* algorithm and generates the final visualization comparing the original image with the cost grid and the calculated path."
   ]
  },
  {
   "cell_type": "code",
   "execution_count": 9,
   "metadata": {},
   "outputs": [
    {
     "name": "stdout",
     "output_type": "stream",
     "text": [
      "\n",
      "--- Running A* Pathfinding ---\n",
      "📍 Start Node: (267, 516)\n",
      "🏁 Goal Node:  (443, 655)\n",
      "✅ Path found with 177 nodes and a total cost of 233.58.\n",
      "\n",
      "💾 Visualization with path saved to 'reconstructed'\n"
     ]
    },
    {
     "name": "stderr",
     "output_type": "stream",
     "text": [
      "C:\\Users\\Hagai.LAPTOP-QAG9263N\\AppData\\Local\\Temp\\ipykernel_17180\\1917352618.py:218: UserWarning: FigureCanvasAgg is non-interactive, and thus cannot be shown\n",
      "  plt.show()\n"
     ]
    }
   ],
   "source": [
    "if start_node and goal_node:\n",
    "    # Set the backend back to one that can be displayed inline\n",
    "    %matplotlib inline\n",
    "    path = run_astar_pathfinding(graph, start_node, goal_node)\n",
    "    visualize_results(IMAGE_PATH, grid, CELL_SIZE, path)\n",
    "else:\n",
    "    print(\"Skipping pathfinding and visualization because nodes were not selected.\")"
   ]
  },
  {
   "cell_type": "markdown",
   "metadata": {},
   "source": [
    "### Step 3.6: Save Artifacts\n",
    "Finally, we save the generated grid and graph to files for later use or analysis."
   ]
  },
  {
   "cell_type": "code",
   "execution_count": 10,
   "metadata": {},
   "outputs": [
    {
     "name": "stdout",
     "output_type": "stream",
     "text": [
      "💾 Cost grid saved to 'test_images\\reconstructed_cost_grid.npy'\n",
      "💾 NetworkX graph saved to 'test_images\\reconstructed_cost_graph.graphml'\n"
     ]
    }
   ],
   "source": [
    "# Re-enable interactive backend if you want to re-run the selection\n",
    "%matplotlib tk\n",
    "\n",
    "# --- Save outputs ---\n",
    "output_stem = IMAGE_PATH.with_suffix('').stem.replace('_image', '')\n",
    "output_dir = IMAGE_PATH.parent\n",
    "\n",
    "# Save the cost grid as a NumPy array\n",
    "grid_path = output_dir / f\"{output_stem}_cost_grid.npy\"\n",
    "np.save(grid_path, grid)\n",
    "print(f\"💾 Cost grid saved to '{grid_path}'\")\n",
    "\n",
    "# Save the graph in GraphML format\n",
    "graph_path = output_dir / f\"{output_stem}_cost_graph.graphml\"\n",
    "nx.write_graphml(graph, graph_path)\n",
    "print(f\"💾 NetworkX graph saved to '{graph_path}'\")"
   ]
  }
 ],
 "metadata": {
  "kernelspec": {
   "display_name": "Python 3",
   "language": "python",
   "name": "python3"
  },
  "language_info": {
   "codemirror_mode": {
    "name": "ipython",
    "version": 3
   },
   "file_extension": ".py",
   "mimetype": "text/x-python",
   "name": "python",
   "nbconvert_exporter": "python",
   "pygments_lexer": "ipython3",
   "version": "3.11.13"
  }
 },
 "nbformat": 4,
 "nbformat_minor": 4
}
