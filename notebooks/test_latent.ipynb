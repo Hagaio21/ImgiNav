{
 "cells": [
  {
   "cell_type": "code",
   "execution_count": 2,
   "id": "8626848a",
   "metadata": {},
   "outputs": [],
   "source": [
    "# %%\n",
    "import sys\n",
    "sys.path.append(r\"C:\\Users\\Hagai.LAPTOP-QAG9263N\\Desktop\\Thesis\\repositories\\ImagiNav\")\n",
    "import torch\n",
    "from torchvision.utils import save_image\n",
    "from modules.autoencoder import AutoEncoder\n",
    "from modules.datasets import LayoutDataset, collate_skip_none\n",
    "import torchvision.transforms as T\n",
    "import os\n"
   ]
  },
  {
   "cell_type": "code",
   "execution_count": 5,
   "id": "391151e3",
   "metadata": {},
   "outputs": [
    {
     "name": "stdout",
     "output_type": "stream",
     "text": [
      "AutoEncoder loaded.\n",
      "Latent channels: 4\n",
      "Latent base: 64\n",
      "Sample shape: torch.Size([1, 3, 512, 512])\n",
      "Latent shape: torch.Size([1, 4, 64, 64])\n",
      "Saved reconstruction → test/output/reconstruction.png\n",
      "Latent mean=0.0020, std=0.0075, avg_norm=1.0000\n",
      "Saved originals.png and recon_grid.png\n"
     ]
    }
   ],
   "source": [
    "\n",
    "# %%\n",
    "# --- CONFIG ---\n",
    "ae_ckpt_path= r\"C:\\Users\\Hagai.LAPTOP-QAG9263N\\Desktop\\Thesis\\repositories\\ImagiNav\\indexes\\autoencoder_512_64x64x4\\checkpoints\\ae_epoch_50.pt\"\n",
    "ae_cfg_path= r\"C:\\Users\\Hagai.LAPTOP-QAG9263N\\Desktop\\Thesis\\repositories\\ImagiNav\\indexes\\autoencoder_512_64x64x4\\checkpoints\\model_config.yaml\"\n",
    "manifest_path = r\"C:\\Users\\Hagai.LAPTOP-QAG9263N\\Desktop\\Thesis\\repositories\\ImagiNav\\indexes\\layouts.csv\"\n",
    "output_dir = \"test/output\"\n",
    "os.makedirs(output_dir, exist_ok=True)\n",
    "\n",
    "device = \"cuda\" if torch.cuda.is_available() else \"cpu\"\n",
    "\n",
    "# %%\n",
    "# --- LOAD AUTOENCODER ---\n",
    "autoencoder = AutoEncoder.from_config(ae_cfg_path)\n",
    "state = torch.load(ae_ckpt_path, map_location=\"cpu\")\n",
    "autoencoder.load_state_dict(state, strict=False)\n",
    "autoencoder.eval().to(device)\n",
    "\n",
    "print(\"AutoEncoder loaded.\")\n",
    "print(\"Latent channels:\", autoencoder.encoder.latent_channels)\n",
    "print(\"Latent base:\", autoencoder.encoder.latent_base)\n",
    "\n",
    "# %%\n",
    "# --- LOAD SAMPLE DATA ---\n",
    "transform = T.ToTensor()\n",
    "dataset = LayoutDataset(manifest_path, transform=transform, mode=\"all\")\n",
    "sample = dataset[0][\"layout\"].unsqueeze(0).to(device)\n",
    "\n",
    "print(\"Sample shape:\", sample.shape)\n",
    "\n",
    "# %%\n",
    "# --- ENCODE + DECODE TEST ---\n",
    "with torch.no_grad():\n",
    "    z = autoencoder.encoder(sample)\n",
    "    x_rec = autoencoder.decoder(z)\n",
    "\n",
    "print(\"Latent shape:\", z.shape)\n",
    "save_image(x_rec, os.path.join(output_dir, \"reconstruction.png\"))\n",
    "print(f\"Saved reconstruction → {output_dir}/reconstruction.png\")\n",
    "\n",
    "# %%\n",
    "# --- LATENT STATISTICS ---\n",
    "z_flat = z.flatten(1)\n",
    "mean = z_flat.mean().item()\n",
    "std = z_flat.std().item()\n",
    "norms = z_flat.norm(dim=1).mean().item()\n",
    "print(f\"Latent mean={mean:.4f}, std={std:.4f}, avg_norm={norms:.4f}\")\n",
    "\n",
    "# %%\n",
    "# --- MULTIPLE SAMPLES GRID ---\n",
    "from torchvision.utils import make_grid\n",
    "samples = torch.stack([dataset[i][\"layout\"] for i in range(min(8, len(dataset)))])\n",
    "samples = samples.to(device)\n",
    "\n",
    "with torch.no_grad():\n",
    "    z = autoencoder.encoder(samples)\n",
    "    x_rec = autoencoder.decoder(z)\n",
    "\n",
    "grid_in = make_grid(samples, nrow=4)\n",
    "grid_rec = make_grid(x_rec, nrow=4)\n",
    "\n",
    "save_image(grid_in, os.path.join(output_dir, \"originals.png\"))\n",
    "save_image(grid_rec, os.path.join(output_dir, \"recon_grid.png\"))\n",
    "\n",
    "print(\"Saved originals.png and recon_grid.png\")\n"
   ]
  }
 ],
 "metadata": {
  "kernelspec": {
   "display_name": "ImgiNav",
   "language": "python",
   "name": "python3"
  },
  "language_info": {
   "codemirror_mode": {
    "name": "ipython",
    "version": 3
   },
   "file_extension": ".py",
   "mimetype": "text/x-python",
   "name": "python",
   "nbconvert_exporter": "python",
   "pygments_lexer": "ipython3",
   "version": "3.10.18"
  }
 },
 "nbformat": 4,
 "nbformat_minor": 5
}
