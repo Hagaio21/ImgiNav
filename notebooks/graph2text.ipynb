{
 "cells": [
  {
   "cell_type": "markdown",
   "id": "3746431c",
   "metadata": {},
   "source": [
    "# Graph2Text"
   ]
  },
  {
   "cell_type": "code",
   "execution_count": 6,
   "id": "a549671a",
   "metadata": {},
   "outputs": [
    {
     "name": "stdout",
     "output_type": "stream",
     "text": [
      "the Cabinet/Shelf/Desk is near and front of the Cabinet/Shelf/Desk. the Cabinet/Shelf/Desk is left of the Chair. the Cabinet/Shelf/Desk is left of the Lighting. the Cabinet/Shelf/Desk is behind the Table. the Cabinet/Shelf/Desk is behind the Structure. the Cabinet/Shelf/Desk is left of the Pier/Stool. the Chair is near and front of the Lighting. the Chair is left of the Table. the Chair is left of the Structure. the Chair is near and front of the Pier/Stool. the Lighting is left of the Table. the Lighting is left of the Structure. the Lighting is near and front of the Pier/Stool. the Table is behind the Table. the Table is by and front of the Structure. the Table is front of the Pier/Stool. the Structure is left of the Structure. the Structure is right of the Pier/Stool.\n"
     ]
    }
   ],
   "source": [
    "import json\n",
    "from pathlib import Path\n",
    "\n",
    "def load_taxonomy(taxonomy_path: str):\n",
    "    \"\"\"Load taxonomy mapping from taxonomy.json.\"\"\"\n",
    "    t = json.loads(Path(taxonomy_path).read_text(encoding=\"utf-8\"))\n",
    "    return {int(k): v for k, v in t.get(\"id2room\", {}).items()}\n",
    "\n",
    "def articleize(label: str) -> str:\n",
    "    \"\"\"Add 'the', 'a', or 'an' before a label depending on plurality.\"\"\"\n",
    "    clean = label.strip().replace(\"_\", \" \")\n",
    "    lower = clean.lower()\n",
    "\n",
    "    # heuristic plural detection\n",
    "    if lower.endswith((\"s\", \"x\", \"z\", \"ch\", \"sh\")) and not lower.endswith((\"ss\", \"us\")):\n",
    "        article = \"a\"\n",
    "    else:\n",
    "        # singular\n",
    "        vowels = \"aeiou\"\n",
    "        article = \"an\" if lower[0] in vowels else \"the\"\n",
    "    return f\"{article} {clean}\"\n",
    "\n",
    "def graph2text(graph_path: str, taxonomy: dict, max_edges: int = 10_000):\n",
    "    \"\"\"\n",
    "    Converts either a 3D-FRONT room graph or scene graph JSON to text.\n",
    "    Uses taxonomy to decode room_id when available.\n",
    "    Removes underscores and adds articles ('the', 'a', 'an').\n",
    "    \"\"\"\n",
    "    path = Path(graph_path)\n",
    "    g = json.loads(path.read_text(encoding=\"utf-8\"))\n",
    "\n",
    "    nodes = g.get(\"nodes\", [])\n",
    "    edges = g.get(\"edges\", [])\n",
    "    if not edges:\n",
    "        return \"\"\n",
    "\n",
    "    is_scene_graph = \"room_a\" in edges[0] or \"room_b\" in edges[0]\n",
    "\n",
    "    # build node label map\n",
    "    id_to_label = {}\n",
    "    for n in nodes:\n",
    "        if is_scene_graph:\n",
    "            rid = n.get(\"room_id\")\n",
    "            raw_label = taxonomy.get(rid, n.get(\"room_type\", str(rid)))\n",
    "        else:\n",
    "            raw_label = n.get(\"label\", n.get(\"id\"))\n",
    "        id_to_label[n[\"id\"]] = articleize(raw_label)\n",
    "\n",
    "    sentences = []\n",
    "    seen = set()\n",
    "\n",
    "    for e in edges[:max_edges]:\n",
    "        a = e.get(\"room_a\") if is_scene_graph else e.get(\"obj_a\")\n",
    "        b = e.get(\"room_b\") if is_scene_graph else e.get(\"obj_b\")\n",
    "        if not a or not b:\n",
    "            continue\n",
    "\n",
    "        label_a = id_to_label.get(a)\n",
    "        label_b = id_to_label.get(b)\n",
    "        if not label_a or not label_b:\n",
    "            continue\n",
    "\n",
    "        key = tuple(sorted([label_a, label_b]))\n",
    "        if key in seen:\n",
    "            continue\n",
    "        seen.add(key)\n",
    "\n",
    "        dist = e.get(\"distance_relation\")\n",
    "        direc = e.get(\"direction_relation\")\n",
    "\n",
    "        if dist and direc:\n",
    "            sentence = f\"{label_a} is {dist} and {direc} {label_b}.\"\n",
    "        elif dist:\n",
    "            sentence = f\"{label_a} is {dist} {label_b}.\"\n",
    "        elif direc:\n",
    "            sentence = f\"{label_a} is {direc} {label_b}.\"\n",
    "        else:\n",
    "            sentence = f\"{label_a} relates to {label_b}.\"\n",
    "\n",
    "        sentences.append(sentence)\n",
    "\n",
    "    text = \" \".join(sentences)\n",
    "    return text.replace(\"_\", \" \")\n",
    "\n",
    "\n",
    "# --- Example ---\n",
    "taxonomy = load_taxonomy(r\"C:\\Users\\Hagai.LAPTOP-QAG9263N\\Desktop\\Thesis\\repositories\\ImagiNav\\config\\taxonomy.json\")\n",
    "# --- Example usage ---\n",
    "scene_graph_path = r\"C:\\Users\\Hagai.LAPTOP-QAG9263N\\Desktop\\Thesis\\repositories\\ImagiNav\\dataset\\00b88e19-d106-4ab8-a322-31c494a0a6b9\\00b88e19-d106-4ab8-a322-31c494a0a6b9_scene_graph.json\"\n",
    "room_graph_path = r\"C:\\Users\\Hagai.LAPTOP-QAG9263N\\Desktop\\Thesis\\repositories\\ImagiNav\\dataset\\00b88e19-d106-4ab8-a322-31c494a0a6b9\\rooms\\3020\\layouts\\00b88e19-d106-4ab8-a322-31c494a0a6b9_3020_graph.json\"  # or any *_graph.json\n",
    "scene_description = graph2text(scene_graph_path,taxonomy)\n",
    "room_description = graph2text(room_graph_path,taxonomy)\n",
    "print(room_description)  # preview first 1000 chars\n"
   ]
  },
  {
   "cell_type": "markdown",
   "id": "ff2401df",
   "metadata": {},
   "source": [
    "# Graph Embeddings"
   ]
  },
  {
   "cell_type": "code",
   "execution_count": 4,
   "id": "2ff70cd0",
   "metadata": {},
   "outputs": [
    {
     "name": "stdout",
     "output_type": "stream",
     "text": [
      "Embedding shape: (384,)\n",
      "First 10 values: [ 0.062   0.0255  0.0034  0.007   0.0384  0.0523 -0.0622 -0.0122  0.0583\n",
      "  0.0503]\n"
     ]
    },
    {
     "name": "stderr",
     "output_type": "stream",
     "text": [
      "c:\\Users\\Hagai.LAPTOP-QAG9263N\\.conda\\envs\\ImgiNav\\lib\\site-packages\\torch\\nn\\modules\\module.py:1527: FutureWarning: `encoder_attention_mask` is deprecated and will be removed in version 4.55.0 for `BertSdpaSelfAttention.forward`.\n",
      "  return forward_call(*args, **kwargs)\n"
     ]
    }
   ],
   "source": [
    "from sentence_transformers import SentenceTransformer\n",
    "import numpy as np\n",
    "\n",
    "# load pretrained model (first download may take ~100 MB)\n",
    "embedder = SentenceTransformer(\"all-MiniLM-L6-v2\")\n",
    "\n",
    "# assume you already ran:\n",
    "# text = graph2text_unified(path, taxonomy)\n",
    "embedding = embedder.encode(room_description, normalize_embeddings=True)\n",
    "\n",
    "print(\"Embedding shape:\", embedding.shape)\n",
    "print(\"First 10 values:\", np.round(embedding[:10], 4))\n"
   ]
  },
  {
   "cell_type": "code",
   "execution_count": 7,
   "id": "fbb7dd47",
   "metadata": {},
   "outputs": [
    {
     "name": "stdout",
     "output_type": "stream",
     "text": [
      "Cosine similarity: 0.695\n"
     ]
    }
   ],
   "source": [
    "from sentence_transformers import SentenceTransformer, util\n",
    "\n",
    "model = SentenceTransformer(\"all-MiniLM-L6-v2\")\n",
    "\n",
    "graph_text = \"the Cabinet/Shelf/Desk is near and front of the Cabinet/Shelf/Desk. the Cabinet/Shelf/Desk is left of the Chair. the Cabinet/Shelf/Desk is left of the Lighting. the Cabinet/Shelf/Desk is behind the Table. the Cabinet/Shelf/Desk is behind the Structure. the Cabinet/Shelf/Desk is left of the Pier/Stool. the Chair is near and front of the Lighting. the Chair is left of the Table. the Chair is left of the Structure. the Chair is near and front of the Pier/Stool. the Lighting is left of the Table. the Lighting is left of the Structure. the Lighting is near and front of the Pier/Stool. the Table is behind the Table. the Table is by and front of the Structure. the Table is front of the Pier/Stool. the Structure is left of the Structure. the Structure is right of the Pier/Stool.\"\n",
    "free_text  = \"A room with a desk positioned near the front, to the left of a chair and a lamp. The lamp and chair stand close together in front of a small table and a structural element like a wall or pillar. A stool sits toward the right side of the structure.\"\n",
    "\n",
    "emb_graph = model.encode(graph_text, normalize_embeddings=True)\n",
    "emb_free  = model.encode(free_text, normalize_embeddings=True)\n",
    "\n",
    "similarity = util.cos_sim(emb_graph, emb_free).item()\n",
    "print(f\"Cosine similarity: {similarity:.3f}\")\n"
   ]
  }
 ],
 "metadata": {
  "kernelspec": {
   "display_name": "ImgiNav",
   "language": "python",
   "name": "python3"
  },
  "language_info": {
   "codemirror_mode": {
    "name": "ipython",
    "version": 3
   },
   "file_extension": ".py",
   "mimetype": "text/x-python",
   "name": "python",
   "nbconvert_exporter": "python",
   "pygments_lexer": "ipython3",
   "version": "3.10.18"
  }
 },
 "nbformat": 4,
 "nbformat_minor": 5
}
