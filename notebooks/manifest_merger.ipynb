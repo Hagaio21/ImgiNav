{
 "cells": [
  {
   "cell_type": "code",
   "execution_count": null,
   "id": "11e46760",
   "metadata": {},
   "outputs": [
    {
     "name": "stdout",
     "output_type": "stream",
     "text": [
      "type\n",
      "room     41854\n",
      "scene     6813\n",
      "Name: count, dtype: int64\n"
     ]
    }
   ],
   "source": [
    "import pandas as pd\n",
    "g = pd.read_csv(r\"C:\\Users\\Hagai.LAPTOP-QAG9263N\\Desktop\\Thesis\\repositories\\ImagiNav\\data_preperation\\manifests\\graphs_with_embeddings.csv\")\n",
    "print(g[\"type\"].value_counts())\n",
    "\n",
    "\n",
    "l = pd.read_csv(r\"C:\\Users\\Hagai.LAPTOP-QAG9263N\\Desktop\\Thesis\\repositories\\ImagiNav\\data_preperation\\manifests\\layout_manifest_with_emb.csv\")\n",
    "print(l[\"type\"].value_counts())\n"
   ]
  }
 ],
 "metadata": {
  "kernelspec": {
   "display_name": "ImgiNav",
   "language": "python",
   "name": "python3"
  },
  "language_info": {
   "codemirror_mode": {
    "name": "ipython",
    "version": 3
   },
   "file_extension": ".py",
   "mimetype": "text/x-python",
   "name": "python",
   "nbconvert_exporter": "python",
   "pygments_lexer": "ipython3",
   "version": "3.10.18"
  }
 },
 "nbformat": 4,
 "nbformat_minor": 5
}
