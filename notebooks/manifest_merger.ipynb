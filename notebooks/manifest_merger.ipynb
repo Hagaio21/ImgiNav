{
 "cells": [
  {
   "cell_type": "code",
   "execution_count": 2,
   "id": "11e46760",
   "metadata": {},
   "outputs": [
    {
     "name": "stdout",
     "output_type": "stream",
     "text": [
      "type\n",
      "room     41854\n",
      "scene     6813\n",
      "Name: count, dtype: int64\n",
      "type\n",
      "room     43208\n",
      "scene     6807\n",
      "Name: count, dtype: int64\n"
     ]
    }
   ],
   "source": [
    "import pandas as pd\n",
    "g = pd.read_csv(r\"C:\\Users\\Hagai.LAPTOP-QAG9263N\\Desktop\\Thesis\\repositories\\ImagiNav\\data_preperation\\manifests\\graphs_with_embeddings.csv\")\n",
    "print(g[\"type\"].value_counts())\n",
    "\n",
    "\n",
    "l = pd.read_csv(r\"C:\\Users\\Hagai.LAPTOP-QAG9263N\\Desktop\\Thesis\\repositories\\ImagiNav\\data_preperation\\manifests\\layout_manifest_with_emb.csv\")\n",
    "print(l[\"type\"].value_counts())\n"
   ]
  },
  {
   "cell_type": "code",
   "execution_count": 3,
   "id": "df7bb1ff",
   "metadata": {},
   "outputs": [
    {
     "name": "stdout",
     "output_type": "stream",
     "text": [
      "6813\n",
      "                               scene_id   type room_id layout_path  \\\n",
      "0  89f96fa2-03f4-412e-b893-bfc3408c7737  scene   scene         NaN   \n",
      "1  8814fb0c-4525-444a-866e-7609977322c6  scene   scene         NaN   \n",
      "2  e5ae3779-f093-4a26-8b90-af198b3e35eb  scene   scene         NaN   \n",
      "\n",
      "                                          graph_path  is_empty  \\\n",
      "0  /work3/s233249/ImgiNav/datasets/scenes/89f96fa...     False   \n",
      "1  /work3/s233249/ImgiNav/datasets/scenes/8814fb0...     False   \n",
      "2  /work3/s233249/ImgiNav/datasets/scenes/e5ae377...     False   \n",
      "\n",
      "                                      embedding_path type_layout  \\\n",
      "0  /work3/s233249/ImgiNav/datasets/scenes/89f96fa...       scene   \n",
      "1  /work3/s233249/ImgiNav/datasets/scenes/8814fb0...       scene   \n",
      "2  /work3/s233249/ImgiNav/datasets/scenes/e5ae377...       scene   \n",
      "\n",
      "  room_id_layout                                 layout_path_layout  \\\n",
      "0          scene  /work3/s233249/ImgiNav/datasets/scenes/89f96fa...   \n",
      "1          scene  /work3/s233249/ImgiNav/datasets/scenes/8814fb0...   \n",
      "2          scene  /work3/s233249/ImgiNav/datasets/scenes/e5ae377...   \n",
      "\n",
      "  is_empty_layout                              embedding_path_layout  \\\n",
      "0           False  /work3/s233249/ImgiNav/datasets/scenes/89f96fa...   \n",
      "1           False  /work3/s233249/ImgiNav/datasets/scenes/8814fb0...   \n",
      "2           False  /work3/s233249/ImgiNav/datasets/scenes/e5ae377...   \n",
      "\n",
      "   embedding_dim  \n",
      "0        16384.0  \n",
      "1        16384.0  \n",
      "2        16384.0  \n"
     ]
    }
   ],
   "source": [
    "\n",
    "\n",
    "graphs_scene = g[g[\"type\"] == \"scene\"]\n",
    "layouts_scene = l[l[\"type\"] == \"scene\"]\n",
    "\n",
    "merged = graphs_scene.merge(layouts_scene, on=\"scene_id\", how=\"left\", suffixes=(\"\", \"_layout\"))\n",
    "print(len(merged))\n",
    "print(merged.head(3))\n"
   ]
  }
 ],
 "metadata": {
  "kernelspec": {
   "display_name": "ImgiNav",
   "language": "python",
   "name": "python3"
  },
  "language_info": {
   "codemirror_mode": {
    "name": "ipython",
    "version": 3
   },
   "file_extension": ".py",
   "mimetype": "text/x-python",
   "name": "python",
   "nbconvert_exporter": "python",
   "pygments_lexer": "ipython3",
   "version": "3.10.18"
  }
 },
 "nbformat": 4,
 "nbformat_minor": 5
}
